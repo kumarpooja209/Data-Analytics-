{
 "cells": [
  {
   "cell_type": "code",
   "execution_count": 1,
   "metadata": {},
   "outputs": [
    {
     "data": {
      "text/html": [
       "<div>\n",
       "<style scoped>\n",
       "    .dataframe tbody tr th:only-of-type {\n",
       "        vertical-align: middle;\n",
       "    }\n",
       "\n",
       "    .dataframe tbody tr th {\n",
       "        vertical-align: top;\n",
       "    }\n",
       "\n",
       "    .dataframe thead th {\n",
       "        text-align: right;\n",
       "    }\n",
       "</style>\n",
       "<table border=\"1\" class=\"dataframe\">\n",
       "  <thead>\n",
       "    <tr style=\"text-align: right;\">\n",
       "      <th></th>\n",
       "      <th>Name</th>\n",
       "      <th>URL</th>\n",
       "      <th>Style</th>\n",
       "      <th>StyleID</th>\n",
       "      <th>Size(L)</th>\n",
       "      <th>OG</th>\n",
       "      <th>FG</th>\n",
       "      <th>IBU</th>\n",
       "      <th>ABV</th>\n",
       "      <th>Color</th>\n",
       "      <th>...</th>\n",
       "      <th>BoilGravity</th>\n",
       "      <th>Efficiency</th>\n",
       "      <th>MashThickness</th>\n",
       "      <th>SugarScale</th>\n",
       "      <th>BrewMethod</th>\n",
       "      <th>PitchRate</th>\n",
       "      <th>PrimaryTemp</th>\n",
       "      <th>PrimingMethod</th>\n",
       "      <th>PrimingAmount</th>\n",
       "      <th>UserId</th>\n",
       "    </tr>\n",
       "    <tr>\n",
       "      <th>BeerID</th>\n",
       "      <th></th>\n",
       "      <th></th>\n",
       "      <th></th>\n",
       "      <th></th>\n",
       "      <th></th>\n",
       "      <th></th>\n",
       "      <th></th>\n",
       "      <th></th>\n",
       "      <th></th>\n",
       "      <th></th>\n",
       "      <th></th>\n",
       "      <th></th>\n",
       "      <th></th>\n",
       "      <th></th>\n",
       "      <th></th>\n",
       "      <th></th>\n",
       "      <th></th>\n",
       "      <th></th>\n",
       "      <th></th>\n",
       "      <th></th>\n",
       "      <th></th>\n",
       "    </tr>\n",
       "  </thead>\n",
       "  <tbody>\n",
       "    <tr>\n",
       "      <td>1</td>\n",
       "      <td>Vanilla Cream Ale</td>\n",
       "      <td>/homebrew/recipe/view/1633/vanilla-cream-ale</td>\n",
       "      <td>Cream Ale</td>\n",
       "      <td>45</td>\n",
       "      <td>21.77</td>\n",
       "      <td>1.055</td>\n",
       "      <td>1.013</td>\n",
       "      <td>5.48</td>\n",
       "      <td>17.65</td>\n",
       "      <td>4.83</td>\n",
       "      <td>...</td>\n",
       "      <td>1.038</td>\n",
       "      <td>70.0</td>\n",
       "      <td>NaN</td>\n",
       "      <td>Specific Gravity</td>\n",
       "      <td>All Grain</td>\n",
       "      <td>NaN</td>\n",
       "      <td>17.78</td>\n",
       "      <td>corn sugar</td>\n",
       "      <td>4.5 oz</td>\n",
       "      <td>116.0</td>\n",
       "    </tr>\n",
       "    <tr>\n",
       "      <td>2</td>\n",
       "      <td>Southern Tier Pumking clone</td>\n",
       "      <td>/homebrew/recipe/view/16367/southern-tier-pumk...</td>\n",
       "      <td>Holiday/Winter Special Spiced Beer</td>\n",
       "      <td>85</td>\n",
       "      <td>20.82</td>\n",
       "      <td>1.083</td>\n",
       "      <td>1.021</td>\n",
       "      <td>8.16</td>\n",
       "      <td>60.65</td>\n",
       "      <td>15.64</td>\n",
       "      <td>...</td>\n",
       "      <td>1.070</td>\n",
       "      <td>70.0</td>\n",
       "      <td>NaN</td>\n",
       "      <td>Specific Gravity</td>\n",
       "      <td>All Grain</td>\n",
       "      <td>NaN</td>\n",
       "      <td>NaN</td>\n",
       "      <td>NaN</td>\n",
       "      <td>NaN</td>\n",
       "      <td>955.0</td>\n",
       "    </tr>\n",
       "    <tr>\n",
       "      <td>3</td>\n",
       "      <td>Zombie Dust Clone - EXTRACT</td>\n",
       "      <td>/homebrew/recipe/view/5920/zombie-dust-clone-e...</td>\n",
       "      <td>American IPA</td>\n",
       "      <td>7</td>\n",
       "      <td>18.93</td>\n",
       "      <td>1.063</td>\n",
       "      <td>1.018</td>\n",
       "      <td>5.91</td>\n",
       "      <td>59.25</td>\n",
       "      <td>8.98</td>\n",
       "      <td>...</td>\n",
       "      <td>NaN</td>\n",
       "      <td>70.0</td>\n",
       "      <td>NaN</td>\n",
       "      <td>Specific Gravity</td>\n",
       "      <td>extract</td>\n",
       "      <td>NaN</td>\n",
       "      <td>NaN</td>\n",
       "      <td>NaN</td>\n",
       "      <td>NaN</td>\n",
       "      <td>NaN</td>\n",
       "    </tr>\n",
       "    <tr>\n",
       "      <td>4</td>\n",
       "      <td>Zombie Dust Clone - ALL GRAIN</td>\n",
       "      <td>/homebrew/recipe/view/5916/zombie-dust-clone-a...</td>\n",
       "      <td>American IPA</td>\n",
       "      <td>7</td>\n",
       "      <td>22.71</td>\n",
       "      <td>1.061</td>\n",
       "      <td>1.017</td>\n",
       "      <td>5.80</td>\n",
       "      <td>54.48</td>\n",
       "      <td>8.50</td>\n",
       "      <td>...</td>\n",
       "      <td>NaN</td>\n",
       "      <td>70.0</td>\n",
       "      <td>NaN</td>\n",
       "      <td>Specific Gravity</td>\n",
       "      <td>All Grain</td>\n",
       "      <td>NaN</td>\n",
       "      <td>NaN</td>\n",
       "      <td>NaN</td>\n",
       "      <td>NaN</td>\n",
       "      <td>NaN</td>\n",
       "    </tr>\n",
       "    <tr>\n",
       "      <td>5</td>\n",
       "      <td>Bakke Brygg Belgisk Blonde 50 l</td>\n",
       "      <td>/homebrew/recipe/view/89534/bakke-brygg-belgis...</td>\n",
       "      <td>Belgian Blond Ale</td>\n",
       "      <td>20</td>\n",
       "      <td>50.00</td>\n",
       "      <td>1.060</td>\n",
       "      <td>1.010</td>\n",
       "      <td>6.48</td>\n",
       "      <td>17.84</td>\n",
       "      <td>4.57</td>\n",
       "      <td>...</td>\n",
       "      <td>1.050</td>\n",
       "      <td>72.0</td>\n",
       "      <td>NaN</td>\n",
       "      <td>Specific Gravity</td>\n",
       "      <td>All Grain</td>\n",
       "      <td>NaN</td>\n",
       "      <td>19.00</td>\n",
       "      <td>Sukkerlake</td>\n",
       "      <td>6-7 g sukker/l</td>\n",
       "      <td>18325.0</td>\n",
       "    </tr>\n",
       "  </tbody>\n",
       "</table>\n",
       "<p>5 rows × 22 columns</p>\n",
       "</div>"
      ],
      "text/plain": [
       "                                   Name  \\\n",
       "BeerID                                    \n",
       "1                     Vanilla Cream Ale   \n",
       "2           Southern Tier Pumking clone   \n",
       "3           Zombie Dust Clone - EXTRACT   \n",
       "4         Zombie Dust Clone - ALL GRAIN   \n",
       "5       Bakke Brygg Belgisk Blonde 50 l   \n",
       "\n",
       "                                                      URL  \\\n",
       "BeerID                                                      \n",
       "1            /homebrew/recipe/view/1633/vanilla-cream-ale   \n",
       "2       /homebrew/recipe/view/16367/southern-tier-pumk...   \n",
       "3       /homebrew/recipe/view/5920/zombie-dust-clone-e...   \n",
       "4       /homebrew/recipe/view/5916/zombie-dust-clone-a...   \n",
       "5       /homebrew/recipe/view/89534/bakke-brygg-belgis...   \n",
       "\n",
       "                                     Style  StyleID  Size(L)     OG     FG  \\\n",
       "BeerID                                                                       \n",
       "1                                Cream Ale       45    21.77  1.055  1.013   \n",
       "2       Holiday/Winter Special Spiced Beer       85    20.82  1.083  1.021   \n",
       "3                             American IPA        7    18.93  1.063  1.018   \n",
       "4                             American IPA        7    22.71  1.061  1.017   \n",
       "5                        Belgian Blond Ale       20    50.00  1.060  1.010   \n",
       "\n",
       "         IBU    ABV  Color  ...  BoilGravity  Efficiency  MashThickness  \\\n",
       "BeerID                      ...                                           \n",
       "1       5.48  17.65   4.83  ...        1.038        70.0            NaN   \n",
       "2       8.16  60.65  15.64  ...        1.070        70.0            NaN   \n",
       "3       5.91  59.25   8.98  ...          NaN        70.0            NaN   \n",
       "4       5.80  54.48   8.50  ...          NaN        70.0            NaN   \n",
       "5       6.48  17.84   4.57  ...        1.050        72.0            NaN   \n",
       "\n",
       "              SugarScale  BrewMethod PitchRate PrimaryTemp  PrimingMethod  \\\n",
       "BeerID                                                                      \n",
       "1       Specific Gravity   All Grain       NaN       17.78     corn sugar   \n",
       "2       Specific Gravity   All Grain       NaN         NaN            NaN   \n",
       "3       Specific Gravity     extract       NaN         NaN            NaN   \n",
       "4       Specific Gravity   All Grain       NaN         NaN            NaN   \n",
       "5       Specific Gravity   All Grain       NaN       19.00     Sukkerlake   \n",
       "\n",
       "         PrimingAmount   UserId  \n",
       "BeerID                           \n",
       "1               4.5 oz    116.0  \n",
       "2                  NaN    955.0  \n",
       "3                  NaN      NaN  \n",
       "4                  NaN      NaN  \n",
       "5       6-7 g sukker/l  18325.0  \n",
       "\n",
       "[5 rows x 22 columns]"
      ]
     },
     "execution_count": 1,
     "metadata": {},
     "output_type": "execute_result"
    }
   ],
   "source": [
    "#importing dataset\n",
    "import numpy as np\n",
    "import pandas as pd \n",
    "bdata= pd.read_csv('D:/Datamining and machine learning/BeerBitternessData.csv',index_col='BeerID', encoding='latin1')\n",
    "bdata.head()"
   ]
  },
  {
   "cell_type": "code",
   "execution_count": 2,
   "metadata": {},
   "outputs": [
    {
     "data": {
      "text/plain": [
       "(73861, 22)"
      ]
     },
     "execution_count": 2,
     "metadata": {},
     "output_type": "execute_result"
    }
   ],
   "source": [
    "bdata.shape"
   ]
  },
  {
   "cell_type": "code",
   "execution_count": 6,
   "metadata": {},
   "outputs": [
    {
     "data": {
      "text/plain": [
       "Name                 1\n",
       "URL                  0\n",
       "Style              596\n",
       "StyleID              0\n",
       "Size(L)              0\n",
       "OG                   0\n",
       "FG                   0\n",
       "IBU                  0\n",
       "ABV                  0\n",
       "Color                0\n",
       "BoilSize             0\n",
       "BoilTime             0\n",
       "BoilGravity       2990\n",
       "Efficiency           0\n",
       "MashThickness    29864\n",
       "SugarScale           0\n",
       "BrewMethod           0\n",
       "PitchRate        39252\n",
       "PrimaryTemp      22662\n",
       "PrimingMethod    67095\n",
       "PrimingAmount    69087\n",
       "UserId           50490\n",
       "dtype: int64"
      ]
     },
     "execution_count": 6,
     "metadata": {},
     "output_type": "execute_result"
    }
   ],
   "source": [
    "#checking for missing values\n",
    "bdata1=bdata\n",
    "bdata1.isnull().sum(axis = 0)"
   ]
  },
  {
   "cell_type": "code",
   "execution_count": 4,
   "metadata": {},
   "outputs": [
    {
     "data": {
      "text/plain": [
       "<matplotlib.axes._subplots.AxesSubplot at 0x2acc36a2448>"
      ]
     },
     "execution_count": 4,
     "metadata": {},
     "output_type": "execute_result"
    },
    {
     "data": {
      "image/png": "[encoded data removed]",
      "text/plain": [
       "<Figure size 1800x720 with 2 Axes>"
      ]
     },
     "metadata": {
      "needs_background": "light"
     },
     "output_type": "display_data"
    }
   ],
   "source": [
    "import matplotlib.pyplot as plt\n",
    "import missingno as msno \n",
    "%matplotlib inline\n",
    "msno.matrix(bdata)"
   ]
  },
  {
   "cell_type": "code",
   "execution_count": 8,
   "metadata": {},
   "outputs": [],
   "source": [
    "#imputing missing values\n",
    "bdata1.BoilGravity = bdata1.BoilGravity.fillna(bdata1.BoilGravity.mean())\n",
    "bdata1.PitchRate = bdata1.PitchRate.fillna(bdata1.PitchRate.mean())\n",
    "#bdata1.info()"
   ]
  },
  {
   "cell_type": "code",
   "execution_count": 9,
   "metadata": {},
   "outputs": [
    {
     "name": "stdout",
     "output_type": "stream",
     "text": [
      "<class 'pandas.core.frame.DataFrame'>\n",
      "Int64Index: 73861 entries, 1 to 73861\n",
      "Data columns (total 15 columns):\n",
      "URL            73861 non-null object\n",
      "StyleID        73861 non-null int64\n",
      "Size(L)        73861 non-null float64\n",
      "OG             73861 non-null float64\n",
      "FG             73861 non-null float64\n",
      "IBU            73861 non-null float64\n",
      "ABV            73861 non-null float64\n",
      "Color          73861 non-null float64\n",
      "BoilSize       73861 non-null float64\n",
      "BoilTime       73861 non-null int64\n",
      "BoilGravity    73861 non-null float64\n",
      "Efficiency     73861 non-null float64\n",
      "SugarScale     73861 non-null object\n",
      "BrewMethod     73861 non-null object\n",
      "PitchRate      73861 non-null float64\n",
      "dtypes: float64(10), int64(2), object(3)\n",
      "memory usage: 9.0+ MB\n"
     ]
    }
   ],
   "source": [
    "bdata1.drop(['Name','Style','MashThickness','PrimaryTemp','PrimingMethod','PrimingAmount','UserId'],axis=1,inplace=True)\n",
    "bdata1.info()"
   ]
  },
  {
   "cell_type": "code",
   "execution_count": 11,
   "metadata": {},
   "outputs": [
    {
     "data": {
      "text/html": [
       "<div>\n",
       "<style scoped>\n",
       "    .dataframe tbody tr th:only-of-type {\n",
       "        vertical-align: middle;\n",
       "    }\n",
       "\n",
       "    .dataframe tbody tr th {\n",
       "        vertical-align: top;\n",
       "    }\n",
       "\n",
       "    .dataframe thead th {\n",
       "        text-align: right;\n",
       "    }\n",
       "</style>\n",
       "<table border=\"1\" class=\"dataframe\">\n",
       "  <thead>\n",
       "    <tr style=\"text-align: right;\">\n",
       "      <th></th>\n",
       "      <th>IBU</th>\n",
       "      <th>ABV</th>\n",
       "      <th>BoilTime</th>\n",
       "      <th>Color</th>\n",
       "      <th>PitchRate</th>\n",
       "    </tr>\n",
       "    <tr>\n",
       "      <th>BeerID</th>\n",
       "      <th></th>\n",
       "      <th></th>\n",
       "      <th></th>\n",
       "      <th></th>\n",
       "      <th></th>\n",
       "    </tr>\n",
       "  </thead>\n",
       "  <tbody>\n",
       "    <tr>\n",
       "      <td>1</td>\n",
       "      <td>5.48</td>\n",
       "      <td>17.65</td>\n",
       "      <td>75</td>\n",
       "      <td>4.83</td>\n",
       "      <td>0.750468</td>\n",
       "    </tr>\n",
       "    <tr>\n",
       "      <td>2</td>\n",
       "      <td>8.16</td>\n",
       "      <td>60.65</td>\n",
       "      <td>60</td>\n",
       "      <td>15.64</td>\n",
       "      <td>0.750468</td>\n",
       "    </tr>\n",
       "    <tr>\n",
       "      <td>3</td>\n",
       "      <td>5.91</td>\n",
       "      <td>59.25</td>\n",
       "      <td>60</td>\n",
       "      <td>8.98</td>\n",
       "      <td>0.750468</td>\n",
       "    </tr>\n",
       "    <tr>\n",
       "      <td>4</td>\n",
       "      <td>5.80</td>\n",
       "      <td>54.48</td>\n",
       "      <td>60</td>\n",
       "      <td>8.50</td>\n",
       "      <td>0.750468</td>\n",
       "    </tr>\n",
       "    <tr>\n",
       "      <td>5</td>\n",
       "      <td>6.48</td>\n",
       "      <td>17.84</td>\n",
       "      <td>90</td>\n",
       "      <td>4.57</td>\n",
       "      <td>0.750468</td>\n",
       "    </tr>\n",
       "  </tbody>\n",
       "</table>\n",
       "</div>"
      ],
      "text/plain": [
       "         IBU    ABV  BoilTime  Color  PitchRate\n",
       "BeerID                                         \n",
       "1       5.48  17.65        75   4.83   0.750468\n",
       "2       8.16  60.65        60  15.64   0.750468\n",
       "3       5.91  59.25        60   8.98   0.750468\n",
       "4       5.80  54.48        60   8.50   0.750468\n",
       "5       6.48  17.84        90   4.57   0.750468"
      ]
     },
     "execution_count": 11,
     "metadata": {},
     "output_type": "execute_result"
    }
   ],
   "source": [
    "bdata2= bdata1[['IBU','ABV','BoilTime','Color','PitchRate']]\n",
    "bdata2.head()"
   ]
  },
  {
   "cell_type": "code",
   "execution_count": 36,
   "metadata": {},
   "outputs": [
    {
     "name": "stdout",
     "output_type": "stream",
     "text": [
      "<class 'pandas.core.frame.DataFrame'>\n",
      "Int64Index: 73861 entries, 1 to 73861\n",
      "Data columns (total 5 columns):\n",
      "IBU          73861 non-null float64\n",
      "ABV          73861 non-null float64\n",
      "BoilTime     73861 non-null int64\n",
      "Color        73861 non-null float64\n",
      "PitchRate    73861 non-null float64\n",
      "dtypes: float64(4), int64(1)\n",
      "memory usage: 3.4 MB\n"
     ]
    }
   ],
   "source": [
    "bdata2.info()"
   ]
  },
  {
   "cell_type": "code",
   "execution_count": 12,
   "metadata": {},
   "outputs": [
    {
     "data": {
      "text/plain": [
       "ABV          0.290889\n",
       "Color        0.271332\n",
       "BoilTime     0.120629\n",
       "PitchRate    0.089161\n",
       "Name: IBU, dtype: float64"
      ]
     },
     "execution_count": 12,
     "metadata": {},
     "output_type": "execute_result"
    }
   ],
   "source": [
    "beer_corr = bdata2.corr()[\"IBU\"]\n",
    "beer_corr.abs().sort_values(ascending=False)[1:]"
   ]
  },
  {
   "cell_type": "code",
   "execution_count": 13,
   "metadata": {},
   "outputs": [
    {
     "data": {
      "text/html": [
       "<div>\n",
       "<style scoped>\n",
       "    .dataframe tbody tr th:only-of-type {\n",
       "        vertical-align: middle;\n",
       "    }\n",
       "\n",
       "    .dataframe tbody tr th {\n",
       "        vertical-align: top;\n",
       "    }\n",
       "\n",
       "    .dataframe thead th {\n",
       "        text-align: right;\n",
       "    }\n",
       "</style>\n",
       "<table border=\"1\" class=\"dataframe\">\n",
       "  <thead>\n",
       "    <tr style=\"text-align: right;\">\n",
       "      <th></th>\n",
       "      <th>IBU</th>\n",
       "      <th>ABV</th>\n",
       "      <th>BoilTime</th>\n",
       "      <th>Color</th>\n",
       "      <th>PitchRate</th>\n",
       "    </tr>\n",
       "  </thead>\n",
       "  <tbody>\n",
       "    <tr>\n",
       "      <td>IBU</td>\n",
       "      <td>1.000000</td>\n",
       "      <td>0.290889</td>\n",
       "      <td>0.120629</td>\n",
       "      <td>0.271332</td>\n",
       "      <td>0.089161</td>\n",
       "    </tr>\n",
       "    <tr>\n",
       "      <td>ABV</td>\n",
       "      <td>0.290889</td>\n",
       "      <td>1.000000</td>\n",
       "      <td>0.078694</td>\n",
       "      <td>0.060283</td>\n",
       "      <td>0.004372</td>\n",
       "    </tr>\n",
       "    <tr>\n",
       "      <td>BoilTime</td>\n",
       "      <td>0.120629</td>\n",
       "      <td>0.078694</td>\n",
       "      <td>1.000000</td>\n",
       "      <td>0.058089</td>\n",
       "      <td>0.138103</td>\n",
       "    </tr>\n",
       "    <tr>\n",
       "      <td>Color</td>\n",
       "      <td>0.271332</td>\n",
       "      <td>0.060283</td>\n",
       "      <td>0.058089</td>\n",
       "      <td>1.000000</td>\n",
       "      <td>0.010953</td>\n",
       "    </tr>\n",
       "    <tr>\n",
       "      <td>PitchRate</td>\n",
       "      <td>0.089161</td>\n",
       "      <td>0.004372</td>\n",
       "      <td>0.138103</td>\n",
       "      <td>0.010953</td>\n",
       "      <td>1.000000</td>\n",
       "    </tr>\n",
       "  </tbody>\n",
       "</table>\n",
       "</div>"
      ],
      "text/plain": [
       "                IBU       ABV  BoilTime     Color  PitchRate\n",
       "IBU        1.000000  0.290889  0.120629  0.271332   0.089161\n",
       "ABV        0.290889  1.000000  0.078694  0.060283   0.004372\n",
       "BoilTime   0.120629  0.078694  1.000000  0.058089   0.138103\n",
       "Color      0.271332  0.060283  0.058089  1.000000   0.010953\n",
       "PitchRate  0.089161  0.004372  0.138103  0.010953   1.000000"
      ]
     },
     "execution_count": 13,
     "metadata": {},
     "output_type": "execute_result"
    }
   ],
   "source": [
    "bdata2.corr()"
   ]
  },
  {
   "cell_type": "code",
   "execution_count": 14,
   "metadata": {},
   "outputs": [],
   "source": [
    "from sklearn.model_selection import train_test_split\n",
    "\n",
    "x = bdata2[bdata2.loc[:, bdata2.columns != 'IBU'].columns] \n",
    "y = bdata2['IBU']"
   ]
  },
  {
   "cell_type": "code",
   "execution_count": 15,
   "metadata": {},
   "outputs": [],
   "source": [
    "#spliting the dataset\n",
    "x_train, x_test, y_train, y_test = train_test_split(x, y, train_size=0.8, test_size=0.2, random_state=0)"
   ]
  },
  {
   "cell_type": "code",
   "execution_count": 16,
   "metadata": {},
   "outputs": [
    {
     "data": {
      "text/plain": [
       "(73861, 5)"
      ]
     },
     "execution_count": 16,
     "metadata": {},
     "output_type": "execute_result"
    }
   ],
   "source": [
    "bdata2.shape"
   ]
  },
  {
   "cell_type": "code",
   "execution_count": 17,
   "metadata": {},
   "outputs": [
    {
     "data": {
      "text/plain": [
       "(59088, 4)"
      ]
     },
     "execution_count": 17,
     "metadata": {},
     "output_type": "execute_result"
    }
   ],
   "source": [
    "x_train.shape"
   ]
  },
  {
   "cell_type": "code",
   "execution_count": 18,
   "metadata": {},
   "outputs": [
    {
     "data": {
      "text/plain": [
       "(14773, 4)"
      ]
     },
     "execution_count": 18,
     "metadata": {},
     "output_type": "execute_result"
    }
   ],
   "source": [
    "x_test.shape"
   ]
  },
  {
   "cell_type": "code",
   "execution_count": 19,
   "metadata": {},
   "outputs": [
    {
     "data": {
      "text/plain": [
       "0.2878605790415236"
      ]
     },
     "execution_count": 19,
     "metadata": {},
     "output_type": "execute_result"
    }
   ],
   "source": [
    "#KNN regression model\n",
    "from sklearn.neighbors import KNeighborsRegressor\n",
    "knn=KNeighborsRegressor(100)\n",
    "knn.fit(x_train,y_train)\n",
    "y_pred=knn.predict(x_test)\n",
    "knn.score(x_test,y_test)"
   ]
  },
  {
   "cell_type": "code",
   "execution_count": 20,
   "metadata": {},
   "outputs": [
    {
     "name": "stdout",
     "output_type": "stream",
     "text": [
      "Mean Absolute Error :0.9964185811954241\n",
      "Root Mean Squared Error :1.503928659788251\n",
      "R square :0.2878605790415236\n"
     ]
    }
   ],
   "source": [
    "#evaluation metrics\n",
    "from sklearn import metrics\n",
    "from sklearn.metrics import r2_score\n",
    "print(\"Mean Absolute Error :\"+ metrics.mean_absolute_error(y_test,y_pred).astype(str))\n",
    "print(\"Root Mean Squared Error :\" + np.sqrt(metrics.mean_squared_error(y_test,y_pred)).astype(str))\n",
    "print(\"R square :\"+ r2_score(y_test,y_pred).astype(str))"
   ]
  },
  {
   "cell_type": "code",
   "execution_count": 21,
   "metadata": {},
   "outputs": [
    {
     "name": "stdout",
     "output_type": "stream",
     "text": [
      "KNN Regression\n",
      "RMSE value of Training dataset:1.6445229713561111\n",
      "RMSE value of testing dataset:1.503928659788251\n"
     ]
    }
   ],
   "source": [
    "#comparing RMSE vlaue of trianing and testing dataset\n",
    "y_pred_x_train=knn.predict(x_train)\n",
    "print(\"KNN Regression\")\n",
    "print(\"RMSE value of Training dataset:\" + np.sqrt(metrics.mean_squared_error(y_train,y_pred_x_train)).astype(str))\n",
    "print(\"RMSE value of testing dataset:\" + np.sqrt(metrics.mean_squared_error(y_test,y_pred)).astype(str))"
   ]
  },
  {
   "cell_type": "code",
   "execution_count": 22,
   "metadata": {},
   "outputs": [
    {
     "name": "stdout",
     "output_type": "stream",
     "text": [
      "0.23792320253509133\n"
     ]
    }
   ],
   "source": [
    "from sklearn.model_selection import cross_val_score\n",
    "cv_res = cross_val_score(knn, x_train, y_train, cv=4, scoring=\"r2\")\n",
    "print(cv_res.mean())"
   ]
  },
  {
   "cell_type": "code",
   "execution_count": 23,
   "metadata": {},
   "outputs": [
    {
     "name": "stdout",
     "output_type": "stream",
     "text": [
      "Kfold validation\n",
      "R-square: 0.24264986338732353\n"
     ]
    }
   ],
   "source": [
    "#Applying Kfold validation technique\n",
    "from sklearn.model_selection import KFold\n",
    "kfold=KFold(n_splits=10, random_state=2)\n",
    "results_kfold = cross_val_score(knn, x_train, y_train, cv=kfold)\n",
    "print(\"Kfold validation\")\n",
    "print(\"R-square: \" +results_kfold.mean().astype(str)) "
   ]
  },
  {
   "cell_type": "code",
   "execution_count": 40,
   "metadata": {},
   "outputs": [],
   "source": [
    "# import matplotlib.pyplot as plt\n",
    "# plt.figure(figsize=(12,7))\n",
    "# plt.scatter(y_test,x_test.iloc[:,2],color=\"Red\")\n",
    "# plt.title(\"Actual vs Predicted\",size=15,pad=10)\n",
    "# #plt.xlabel('Rating',size = 15)\n",
    "# #plt.ylabel('Frequency',size = 15)\n",
    "# plt.scatter(y_pred,x_test.iloc[:,2],color=\"green\")"
   ]
  },
  {
   "cell_type": "code",
   "execution_count": 30,
   "metadata": {},
   "outputs": [
    {
     "data": {
      "text/plain": [
       "0.26300239704471107"
      ]
     },
     "execution_count": 30,
     "metadata": {},
     "output_type": "execute_result"
    }
   ],
   "source": [
    "#applying gradient boosting regression method\n",
    "from sklearn.ensemble import GradientBoostingRegressor\n",
    "model1 = GradientBoostingRegressor(n_estimators=3,learning_rate=1)\n",
    "model1.fit(x_train,y_train)\n",
    "y_pred=model1.predict(x_test)\n",
    "model1.score(x_test,y_test)"
   ]
  },
  {
   "cell_type": "code",
   "execution_count": 31,
   "metadata": {},
   "outputs": [
    {
     "name": "stdout",
     "output_type": "stream",
     "text": [
      "Mean Absolute Error :1.0220109371509487\n",
      "Root Mean Squared Error :1.5299518380771284\n",
      "R square :0.26300239704471107\n"
     ]
    }
   ],
   "source": [
    "#evaluation metrics\n",
    "from sklearn import metrics\n",
    "from sklearn.metrics import r2_score\n",
    "print(\"Mean Absolute Error :\"+ metrics.mean_absolute_error(y_test,y_pred).astype(str))\n",
    "print(\"Root Mean Squared Error :\" + np.sqrt(metrics.mean_squared_error(y_test,y_pred)).astype(str))\n",
    "print(\"R square :\"+ r2_score(y_test,y_pred).astype(str))"
   ]
  },
  {
   "cell_type": "code",
   "execution_count": 34,
   "metadata": {},
   "outputs": [
    {
     "name": "stdout",
     "output_type": "stream",
     "text": [
      "Gradient Boosting Regression\n",
      "RMSE value of Training dataset:1.6526359432084858\n",
      "RMSE value of testing dataset:1.5299518380771284\n"
     ]
    }
   ],
   "source": [
    "#Comparing RMSE value of trianing and testing set\n",
    "y_pred_x_train=model1.predict(x_train)\n",
    "print(\"Gradient Boosting Regression\")\n",
    "print(\"RMSE value of Training dataset:\" + np.sqrt(metrics.mean_squared_error(y_train,y_pred_x_train)).astype(str))\n",
    "print(\"RMSE value of testing dataset:\" + np.sqrt(metrics.mean_squared_error(y_test,y_pred)).astype(str))"
   ]
  },
  {
   "cell_type": "code",
   "execution_count": 32,
   "metadata": {},
   "outputs": [
    {
     "name": "stdout",
     "output_type": "stream",
     "text": [
      "0.20759089123579344\n"
     ]
    }
   ],
   "source": [
    "from sklearn.model_selection import cross_val_score\n",
    "cv_res = cross_val_score(model1, x_train, y_train, cv=4, scoring=\"r2\")\n",
    "print(cv_res.mean())"
   ]
  },
  {
   "cell_type": "code",
   "execution_count": 33,
   "metadata": {},
   "outputs": [
    {
     "name": "stdout",
     "output_type": "stream",
     "text": [
      "Kfold Validaition\n",
      "R-square: 0.21830712808957956\n"
     ]
    }
   ],
   "source": [
    "#applying Kfold technique\n",
    "from sklearn.model_selection import KFold\n",
    "kfold=KFold(n_splits=10, random_state=2)\n",
    "results_kfold = cross_val_score(model1, x_train, y_train, cv=kfold)\n",
    "print(\"Kfold Validaition\")\n",
    "print(\"R-square: \" + results_kfold.mean().astype(str)) "
   ]
  },
  {
   "cell_type": "code",
   "execution_count": 42,
   "metadata": {},
   "outputs": [
    {
     "data": {
      "text/plain": [
       "0.17769418657321756"
      ]
     },
     "execution_count": 42,
     "metadata": {},
     "output_type": "execute_result"
    }
   ],
   "source": [
    "#applying multiple linear regression \n",
    "from sklearn.linear_model import LinearRegression\n",
    "mlr=LinearRegression()\n",
    "mlr.fit(x_train,y_train)\n",
    "y_pred=mlr.predict(x_test)\n",
    "mlr.score(x_test,y_test)"
   ]
  },
  {
   "cell_type": "code",
   "execution_count": 44,
   "metadata": {},
   "outputs": [
    {
     "name": "stdout",
     "output_type": "stream",
     "text": [
      "Mean Absolute Error :1.0795353366502194\n",
      "Root Mean Squared Error :1.6219221762484943\n",
      "R square :0.1717325781071315\n"
     ]
    }
   ],
   "source": [
    "#Evaluation metrics\n",
    "from sklearn import metrics\n",
    "from sklearn.metrics import r2_score\n",
    "print(\"Mean Absolute Error :\"+ metrics.mean_absolute_error(y_test,y_pred).astype(str))\n",
    "print(\"Root Mean Squared Error :\" + np.sqrt(metrics.mean_squared_error(y_test,y_pred)).astype(str))\n",
    "print(\"R square :\"+ r2_score(y_test,y_pred).astype(str))"
   ]
  },
  {
   "cell_type": "code",
   "execution_count": 45,
   "metadata": {},
   "outputs": [
    {
     "name": "stdout",
     "output_type": "stream",
     "text": [
      "Kfold Validaition\n",
      "R-square: 0.21830712808957958\n"
     ]
    }
   ],
   "source": [
    "#applying K-fold validation technique\n",
    "from sklearn.model_selection import KFold\n",
    "kfold=KFold(n_splits=10, random_state=2)\n",
    "results_kfold = cross_val_score(model1, x_train, y_train, cv=kfold)\n",
    "print(\"Kfold Validaition\")\n",
    "print(\"R-square: \" + results_kfold.mean().astype(str)) "
   ]
  },
  {
   "cell_type": "code",
   "execution_count": null,
   "metadata": {},
   "outputs": [],
   "source": []
  }
 ],
 "metadata": {
  "kernelspec": {
   "display_name": "Python 3",
   "language": "python",
   "name": "python3"
  },
  "language_info": {
   "codemirror_mode": {
    "name": "ipython",
    "version": 3
   },
   "file_extension": ".py",
   "mimetype": "text/x-python",
   "name": "python",
   "nbconvert_exporter": "python",
   "pygments_lexer": "ipython3",
   "version": "3.7.4"
  }
 },
 "nbformat": 4,
 "nbformat_minor": 2
}
