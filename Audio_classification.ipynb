{
  "nbformat": 4,
  "nbformat_minor": 0,
  "metadata": {
    "colab": {
      "name": "x18181929_withMFCC.ipynb",
      "provenance": [],
      "collapsed_sections": []
    },
    "kernelspec": {
      "name": "python3",
      "display_name": "Python 3"
    }
  },
  "cells": [
    {
      "cell_type": "code",
      "metadata": {
        "id": "qQ0dTpJCdM_t",
        "colab_type": "code",
        "colab": {
          "base_uri": "https://localhost:8080/",
          "height": 120
        },
        "outputId": "10311f81-4779-4e4b-a070-74c392468157"
      },
      "source": [
        "import glob\n",
        "from google.colab import drive\n",
        "\n",
        "# Mounting drive\n",
        "drive.mount(\"/content/drive\")"
      ],
      "execution_count": null,
      "outputs": [
        {
          "output_type": "stream",
          "text": [
            "Go to this URL in a browser: https://accounts.google.com/o/oauth2/auth?client_id=947318989803-6bn6qk8qdgf4n4g3pfee6491hc0brc4i.apps.googleusercontent.com&redirect_uri=urn%3aietf%3awg%3aoauth%3a2.0%3aoob&response_type=code&scope=email%20https%3a%2f%2fwww.googleapis.com%2fauth%2fdocs.test%20https%3a%2f%2fwww.googleapis.com%2fauth%2fdrive%20https%3a%2f%2fwww.googleapis.com%2fauth%2fdrive.photos.readonly%20https%3a%2f%2fwww.googleapis.com%2fauth%2fpeopleapi.readonly\n",
            "\n",
            "Enter your authorization code:\n",
            "··········\n",
            "Mounted at /content/drive\n"
          ],
          "name": "stdout"
        }
      ]
    },
    {
      "cell_type": "markdown",
      "metadata": {
        "id": "0XirDrzRNz9f",
        "colab_type": "text"
      },
      "source": [
        "Creating a directorty to load data"
      ]
    },
    {
      "cell_type": "code",
      "metadata": {
        "id": "YWzo5SOrdTbF",
        "colab_type": "code",
        "colab": {
          "base_uri": "https://localhost:8080/",
          "height": 50
        },
        "outputId": "74244fa8-e29f-41e6-cfcb-11c523f1aebc"
      },
      "source": [
        "!ls \"/content/drive/My Drive/Colab Notebooks/data\""
      ],
      "execution_count": null,
      "outputs": [
        {
          "output_type": "stream",
          "text": [
            "107620_256618_bundle_archive.zip  325566_653195_bundle_archive.zip\n",
            "316368_639622_bundle_archive.zip  338555_671851_bundle_archive.zip\n"
          ],
          "name": "stdout"
        }
      ]
    },
    {
      "cell_type": "markdown",
      "metadata": {
        "id": "DGxobHvMOLtB",
        "colab_type": "text"
      },
      "source": [
        "Dataset 1 -\n",
        "Unzippinfg the datafiles"
      ]
    },
    {
      "cell_type": "code",
      "metadata": {
        "id": "gWZ4SkYngUqZ",
        "colab_type": "code",
        "colab": {}
      },
      "source": [
        "!unzip \"/content/drive/My Drive/Colab Notebooks/data/325566_653195_bundle_archive.zip\"\n",
        "!ls \"AudioWAV\""
      ],
      "execution_count": null,
      "outputs": []
    },
    {
      "cell_type": "code",
      "metadata": {
        "id": "0M-xASyEgpoj",
        "colab_type": "code",
        "colab": {
          "base_uri": "https://localhost:8080/",
          "height": 67
        },
        "outputId": "099782d0-47e8-451e-c13b-8c4413325e55"
      },
      "source": [
        "import pandas as pd\n",
        "import numpy as np\n",
        "\n",
        "import os\n",
        "import sys\n",
        "\n",
        "import librosa\n",
        "import librosa.display\n",
        "import seaborn as sns\n",
        "import matplotlib.pyplot as plt\n",
        "\n",
        "from sklearn.preprocessing import StandardScaler, OneHotEncoder\n",
        "from sklearn.metrics import confusion_matrix, classification_report\n",
        "from sklearn.model_selection import train_test_split\n",
        "\n",
        "# to play the audio files\n",
        "from IPython.display import Audio\n",
        "\n",
        "import keras\n",
        "from keras.callbacks import ReduceLROnPlateau\n",
        "from keras.models import Sequential\n",
        "from keras.layers import Dense, Conv1D, MaxPooling1D, Flatten, Dropout, BatchNormalization\n",
        "from keras.utils import np_utils, to_categorical\n",
        "from keras.callbacks import ModelCheckpoint\n",
        "\n",
        "import warnings\n",
        "if not sys.warnoptions:\n",
        "    warnings.simplefilter(\"ignore\")\n",
        "warnings.filterwarnings(\"ignore\", category=DeprecationWarning) "
      ],
      "execution_count": null,
      "outputs": [
        {
          "output_type": "stream",
          "text": [
            "/usr/local/lib/python3.6/dist-packages/statsmodels/tools/_testing.py:19: FutureWarning: pandas.util.testing is deprecated. Use the functions in the public API at pandas.testing instead.\n",
            "  import pandas.util.testing as tm\n",
            "Using TensorFlow backend.\n"
          ],
          "name": "stderr"
        }
      ]
    },
    {
      "cell_type": "code",
      "metadata": {
        "id": "RnIFYwVYgtsj",
        "colab_type": "code",
        "colab": {}
      },
      "source": [
        "crema = os.listdir('AudioWAV')"
      ],
      "execution_count": null,
      "outputs": []
    },
    {
      "cell_type": "markdown",
      "metadata": {
        "id": "LtUe88rVOi-R",
        "colab_type": "text"
      },
      "source": [
        "Audio file was read and label was extracted \n"
      ]
    },
    {
      "cell_type": "code",
      "metadata": {
        "id": "FBoAjZy1f2CM",
        "colab_type": "code",
        "colab": {
          "base_uri": "https://localhost:8080/",
          "height": 197
        },
        "outputId": "f6c38f26-0a57-43f2-c774-1ca98ac78c8b"
      },
      "source": [
        "file_emotion = []\n",
        "file_path = []\n",
        "\n",
        "for file in crema:\n",
        "    # storing file paths\n",
        "    file_path.append('AudioWAV/' + file)\n",
        "    # storing file emotions\n",
        "    part=file.split('_')\n",
        "    if part[2] == 'SAD':\n",
        "        file_emotion.append('sad')\n",
        "    elif part[2] == 'ANG':\n",
        "        file_emotion.append('angry')\n",
        "    elif part[2] == 'DIS':\n",
        "        file_emotion.append('disgust')\n",
        "    elif part[2] == 'FEA':\n",
        "        file_emotion.append('fear')\n",
        "    elif part[2] == 'HAP':\n",
        "        file_emotion.append('happy')\n",
        "    elif part[2] == 'NEU':\n",
        "        file_emotion.append('neutral')\n",
        "    else:\n",
        "        file_emotion.append('Unknown')\n",
        "\n",
        "# dataframe for emotion of files\n",
        "emotion_df = pd.DataFrame(file_emotion, columns=['Emotions'])\n",
        "\n",
        "# dataframe for path of files.\n",
        "path_df = pd.DataFrame(file_path, columns=['Path'])\n",
        "Crema_df = pd.concat([emotion_df, path_df], axis=1)\n",
        "Crema_df.head()"
      ],
      "execution_count": null,
      "outputs": [
        {
          "output_type": "execute_result",
          "data": {
            "text/html": [
              "<div>\n",
              "<style scoped>\n",
              "    .dataframe tbody tr th:only-of-type {\n",
              "        vertical-align: middle;\n",
              "    }\n",
              "\n",
              "    .dataframe tbody tr th {\n",
              "        vertical-align: top;\n",
              "    }\n",
              "\n",
              "    .dataframe thead th {\n",
              "        text-align: right;\n",
              "    }\n",
              "</style>\n",
              "<table border=\"1\" class=\"dataframe\">\n",
              "  <thead>\n",
              "    <tr style=\"text-align: right;\">\n",
              "      <th></th>\n",
              "      <th>Emotions</th>\n",
              "      <th>Path</th>\n",
              "    </tr>\n",
              "  </thead>\n",
              "  <tbody>\n",
              "    <tr>\n",
              "      <th>0</th>\n",
              "      <td>angry</td>\n",
              "      <td>AudioWAV/1003_ITH_ANG_XX.wav</td>\n",
              "    </tr>\n",
              "    <tr>\n",
              "      <th>1</th>\n",
              "      <td>sad</td>\n",
              "      <td>AudioWAV/1028_MTI_SAD_XX.wav</td>\n",
              "    </tr>\n",
              "    <tr>\n",
              "      <th>2</th>\n",
              "      <td>neutral</td>\n",
              "      <td>AudioWAV/1028_IWL_NEU_XX.wav</td>\n",
              "    </tr>\n",
              "    <tr>\n",
              "      <th>3</th>\n",
              "      <td>angry</td>\n",
              "      <td>AudioWAV/1086_IWW_ANG_XX.wav</td>\n",
              "    </tr>\n",
              "    <tr>\n",
              "      <th>4</th>\n",
              "      <td>neutral</td>\n",
              "      <td>AudioWAV/1044_IWW_NEU_XX.wav</td>\n",
              "    </tr>\n",
              "  </tbody>\n",
              "</table>\n",
              "</div>"
            ],
            "text/plain": [
              "  Emotions                          Path\n",
              "0    angry  AudioWAV/1003_ITH_ANG_XX.wav\n",
              "1      sad  AudioWAV/1028_MTI_SAD_XX.wav\n",
              "2  neutral  AudioWAV/1028_IWL_NEU_XX.wav\n",
              "3    angry  AudioWAV/1086_IWW_ANG_XX.wav\n",
              "4  neutral  AudioWAV/1044_IWW_NEU_XX.wav"
            ]
          },
          "metadata": {
            "tags": []
          },
          "execution_count": 6
        }
      ]
    },
    {
      "cell_type": "code",
      "metadata": {
        "id": "2pgVlkn5NPGo",
        "colab_type": "code",
        "colab": {
          "base_uri": "https://localhost:8080/",
          "height": 33
        },
        "outputId": "7b3ac14d-4252-4119-923a-729f4cdbf6ef"
      },
      "source": [
        "Crema_df.shape"
      ],
      "execution_count": null,
      "outputs": [
        {
          "output_type": "execute_result",
          "data": {
            "text/plain": [
              "(7442, 2)"
            ]
          },
          "metadata": {
            "tags": []
          },
          "execution_count": 7
        }
      ]
    },
    {
      "cell_type": "markdown",
      "metadata": {
        "id": "4mNdPUYEPvoN",
        "colab_type": "text"
      },
      "source": [
        "Dataset-2"
      ]
    },
    {
      "cell_type": "code",
      "metadata": {
        "id": "3p6zCco_g4lN",
        "colab_type": "code",
        "colab": {}
      },
      "source": [
        "!unzip \"/content/drive/My Drive/Colab Notebooks/data/316368_639622_bundle_archive.zip\""
      ],
      "execution_count": null,
      "outputs": []
    },
    {
      "cell_type": "code",
      "metadata": {
        "id": "B7CrNFQhg9Sc",
        "colab_type": "code",
        "colab": {
          "base_uri": "https://localhost:8080/",
          "height": 67
        },
        "outputId": "79e0e054-bfec-4fef-f761-b1bbd5e6491f"
      },
      "source": [
        "!ls"
      ],
      "execution_count": null,
      "outputs": [
        {
          "output_type": "stream",
          "text": [
            " AudioWAV     'tess toronto emotional speech set data'\n",
            " drive\t      'TESS Toronto emotional speech set data'\n",
            " sample_data\n"
          ],
          "name": "stdout"
        }
      ]
    },
    {
      "cell_type": "code",
      "metadata": {
        "id": "bld_MwqVhJj7",
        "colab_type": "code",
        "colab": {}
      },
      "source": [
        "tess = os.listdir('TESS Toronto emotional speech set data')"
      ],
      "execution_count": null,
      "outputs": []
    },
    {
      "cell_type": "code",
      "metadata": {
        "id": "hh5xt0c9hKYb",
        "colab_type": "code",
        "colab": {
          "base_uri": "https://localhost:8080/",
          "height": 33
        },
        "outputId": "68649691-9380-4984-c3d5-177608957a1d"
      },
      "source": [
        "file_emotion = []\n",
        "file_path = []\n",
        "\n",
        "for dir in tess:\n",
        "    directories = os.listdir('TESS Toronto emotional speech set data' +'/'  + dir)\n",
        "    for file in directories:\n",
        "        part = file.split('.')[0]\n",
        "        part = part.split('_')[2]\n",
        "        if part=='ps':\n",
        "            file_emotion.append('surprise')\n",
        "        else:\n",
        "            file_emotion.append(part)\n",
        "        file_path.append('TESS Toronto emotional speech set data/' + dir + '/' + file)\n",
        "\n",
        "# dataframe for emotion of files\n",
        "emotion_df = pd.DataFrame(file_emotion, columns=['Emotions'])\n",
        "\n",
        "# dataframe for path of files.\n",
        "path_df = pd.DataFrame(file_path, columns=['Path'])\n",
        "Tess_df = pd.concat([emotion_df, path_df], axis=1)\n",
        "Tess_df\n",
        "Tess_df.shape\n"
      ],
      "execution_count": null,
      "outputs": [
        {
          "output_type": "execute_result",
          "data": {
            "text/plain": [
              "(2800, 2)"
            ]
          },
          "metadata": {
            "tags": []
          },
          "execution_count": 11
        }
      ]
    },
    {
      "cell_type": "markdown",
      "metadata": {
        "id": "H-Dqpbn1P5E0",
        "colab_type": "text"
      },
      "source": [
        "Dataset-3"
      ]
    },
    {
      "cell_type": "code",
      "metadata": {
        "id": "1esx8-crhPV2",
        "colab_type": "code",
        "colab": {}
      },
      "source": [
        "!unzip \"/content/drive/My Drive/Colab Notebooks/data/107620_256618_bundle_archive.zip\"\n"
      ],
      "execution_count": null,
      "outputs": []
    },
    {
      "cell_type": "code",
      "metadata": {
        "id": "BGAe744RhVeG",
        "colab_type": "code",
        "colab": {}
      },
      "source": [
        "ravdess = os.listdir('audio_speech_actors_01-24')\n"
      ],
      "execution_count": null,
      "outputs": []
    },
    {
      "cell_type": "code",
      "metadata": {
        "id": "u1tzXlpGhcrQ",
        "colab_type": "code",
        "colab": {
          "base_uri": "https://localhost:8080/",
          "height": 33
        },
        "outputId": "820f9818-040f-4eb9-d46d-fa6a36ebf76f"
      },
      "source": [
        "#ravdess_directory_list = os.listdir(Ravdess)\n",
        "\n",
        "file_emotion = []\n",
        "file_path = []\n",
        "for dir in ravdess:\n",
        "    # as their are 20 different actors in our previous directory we need to extract files for each actor.\n",
        "    actor = os.listdir('audio_speech_actors_01-24' +'/'+ dir)\n",
        "    for file in actor:\n",
        "        part = file.split('.')[0]\n",
        "        part = part.split('-')\n",
        "        # third part in each file represents the emotion associated to that file.\n",
        "        file_emotion.append(int(part[2]))\n",
        "        file_path.append('audio_speech_actors_01-24' +'/'+ dir + '/' + file)\n",
        "\n",
        "# dataframe for emotion of files\n",
        "emotion_df = pd.DataFrame(file_emotion, columns=['Emotions'])\n",
        "\n",
        "# dataframe for path of files.\n",
        "path_df = pd.DataFrame(file_path, columns=['Path'])\n",
        "Ravdess_df = pd.concat([emotion_df, path_df], axis=1)\n",
        "\n",
        "# changing integers to actual emotions.\n",
        "Ravdess_df.Emotions.replace({1:'neutral', 2:'calm', 3:'happy', 4:'sad', 5:'angry', 6:'fear', 7:'disgust', 8:'surprise'}, inplace=True)\n",
        "Ravdess_df.shape"
      ],
      "execution_count": null,
      "outputs": [
        {
          "output_type": "execute_result",
          "data": {
            "text/plain": [
              "(1440, 2)"
            ]
          },
          "metadata": {
            "tags": []
          },
          "execution_count": 14
        }
      ]
    },
    {
      "cell_type": "markdown",
      "metadata": {
        "id": "UIAUTMBSQB8L",
        "colab_type": "text"
      },
      "source": [
        "Dataset-4\n"
      ]
    },
    {
      "cell_type": "code",
      "metadata": {
        "id": "q2TLtiYqhhoK",
        "colab_type": "code",
        "colab": {}
      },
      "source": [
        "!unzip \"/content/drive/My Drive/Colab Notebooks/data/338555_671851_bundle_archive.zip\"\n"
      ],
      "execution_count": null,
      "outputs": []
    },
    {
      "cell_type": "code",
      "metadata": {
        "id": "7LiqKpalhmnd",
        "colab_type": "code",
        "colab": {
          "base_uri": "https://localhost:8080/",
          "height": 150
        },
        "outputId": "eb69b2b8-bc42-47b2-ba1f-077627d15f42"
      },
      "source": [
        "!ls\n"
      ],
      "execution_count": null,
      "outputs": [
        {
          "output_type": "stream",
          "text": [
            " Actor_01   Actor_09   Actor_17   ALL\n",
            " Actor_02   Actor_10   Actor_18   audio_speech_actors_01-24\n",
            " Actor_03   Actor_11   Actor_19   AudioWAV\n",
            " Actor_04   Actor_12   Actor_20   drive\n",
            " Actor_05   Actor_13   Actor_21   sample_data\n",
            " Actor_06   Actor_14   Actor_22  'tess toronto emotional speech set data'\n",
            " Actor_07   Actor_15   Actor_23  'TESS Toronto emotional speech set data'\n",
            " Actor_08   Actor_16   Actor_24\n"
          ],
          "name": "stdout"
        }
      ]
    },
    {
      "cell_type": "code",
      "metadata": {
        "id": "WtI0xwXYhwyS",
        "colab_type": "code",
        "colab": {}
      },
      "source": [
        "savee = os.listdir('ALL')"
      ],
      "execution_count": null,
      "outputs": []
    },
    {
      "cell_type": "code",
      "metadata": {
        "id": "UBUc8FLeh4xm",
        "colab_type": "code",
        "colab": {
          "base_uri": "https://localhost:8080/",
          "height": 33
        },
        "outputId": "639718fc-cd9b-4fe8-b456-0220873c3e99"
      },
      "source": [
        "file_emotion = []\n",
        "file_path = []\n",
        "\n",
        "for file in savee:\n",
        "    file_path.append('ALL/' + file)\n",
        "    part = file.split('_')[1]\n",
        "    ele = part[:-6]\n",
        "    if ele=='a':\n",
        "        file_emotion.append('angry')\n",
        "    elif ele=='d':\n",
        "        file_emotion.append('disgust')\n",
        "    elif ele=='f':\n",
        "        file_emotion.append('fear')\n",
        "    elif ele=='h':\n",
        "        file_emotion.append('happy')\n",
        "    elif ele=='n':\n",
        "        file_emotion.append('neutral')\n",
        "    elif ele=='sa':\n",
        "        file_emotion.append('sad')\n",
        "    else:\n",
        "        file_emotion.append('surprise')\n",
        "\n",
        "# dataframe for emotion of files\n",
        "emotion_df = pd.DataFrame(file_emotion, columns=['Emotions'])\n",
        "\n",
        "# dataframe for path of files.\n",
        "path_df = pd.DataFrame(file_path, columns=['Path'])\n",
        "Savee_df = pd.concat([emotion_df, path_df], axis=1)\n",
        "Savee_df.head()\n",
        "Savee_df.shape"
      ],
      "execution_count": null,
      "outputs": [
        {
          "output_type": "execute_result",
          "data": {
            "text/plain": [
              "(480, 2)"
            ]
          },
          "metadata": {
            "tags": []
          },
          "execution_count": 18
        }
      ]
    },
    {
      "cell_type": "markdown",
      "metadata": {
        "id": "5Ec70QdLQuSb",
        "colab_type": "text"
      },
      "source": [
        "Combing all four dataset"
      ]
    },
    {
      "cell_type": "code",
      "metadata": {
        "id": "jM8BOmABh7O_",
        "colab_type": "code",
        "colab": {
          "base_uri": "https://localhost:8080/",
          "height": 197
        },
        "outputId": "cfa2c31d-a718-4774-e73e-64067158b638"
      },
      "source": [
        "data_path = pd.concat([Ravdess_df, Crema_df, Tess_df, Savee_df], axis = 0, ignore_index=True)\n",
        "data_path.to_csv(\"data_path.csv\",index=False)\n",
        "data_path.head()"
      ],
      "execution_count": null,
      "outputs": [
        {
          "output_type": "execute_result",
          "data": {
            "text/html": [
              "<div>\n",
              "<style scoped>\n",
              "    .dataframe tbody tr th:only-of-type {\n",
              "        vertical-align: middle;\n",
              "    }\n",
              "\n",
              "    .dataframe tbody tr th {\n",
              "        vertical-align: top;\n",
              "    }\n",
              "\n",
              "    .dataframe thead th {\n",
              "        text-align: right;\n",
              "    }\n",
              "</style>\n",
              "<table border=\"1\" class=\"dataframe\">\n",
              "  <thead>\n",
              "    <tr style=\"text-align: right;\">\n",
              "      <th></th>\n",
              "      <th>Emotions</th>\n",
              "      <th>Path</th>\n",
              "    </tr>\n",
              "  </thead>\n",
              "  <tbody>\n",
              "    <tr>\n",
              "      <th>0</th>\n",
              "      <td>disgust</td>\n",
              "      <td>audio_speech_actors_01-24/Actor_01/03-01-07-01...</td>\n",
              "    </tr>\n",
              "    <tr>\n",
              "      <th>1</th>\n",
              "      <td>disgust</td>\n",
              "      <td>audio_speech_actors_01-24/Actor_01/03-01-07-02...</td>\n",
              "    </tr>\n",
              "    <tr>\n",
              "      <th>2</th>\n",
              "      <td>happy</td>\n",
              "      <td>audio_speech_actors_01-24/Actor_01/03-01-03-01...</td>\n",
              "    </tr>\n",
              "    <tr>\n",
              "      <th>3</th>\n",
              "      <td>disgust</td>\n",
              "      <td>audio_speech_actors_01-24/Actor_01/03-01-07-02...</td>\n",
              "    </tr>\n",
              "    <tr>\n",
              "      <th>4</th>\n",
              "      <td>neutral</td>\n",
              "      <td>audio_speech_actors_01-24/Actor_01/03-01-01-01...</td>\n",
              "    </tr>\n",
              "  </tbody>\n",
              "</table>\n",
              "</div>"
            ],
            "text/plain": [
              "  Emotions                                               Path\n",
              "0  disgust  audio_speech_actors_01-24/Actor_01/03-01-07-01...\n",
              "1  disgust  audio_speech_actors_01-24/Actor_01/03-01-07-02...\n",
              "2    happy  audio_speech_actors_01-24/Actor_01/03-01-03-01...\n",
              "3  disgust  audio_speech_actors_01-24/Actor_01/03-01-07-02...\n",
              "4  neutral  audio_speech_actors_01-24/Actor_01/03-01-01-01..."
            ]
          },
          "metadata": {
            "tags": []
          },
          "execution_count": 19
        }
      ]
    },
    {
      "cell_type": "code",
      "metadata": {
        "id": "9tccFHXXOlDm",
        "colab_type": "code",
        "colab": {
          "base_uri": "https://localhost:8080/",
          "height": 33
        },
        "outputId": "70d0f7f1-faa7-4414-bcc1-9d8b38fff74c"
      },
      "source": [
        "data_path.shape"
      ],
      "execution_count": null,
      "outputs": [
        {
          "output_type": "execute_result",
          "data": {
            "text/plain": [
              "(12162, 2)"
            ]
          },
          "metadata": {
            "tags": []
          },
          "execution_count": 20
        }
      ]
    },
    {
      "cell_type": "markdown",
      "metadata": {
        "id": "qaRhKAa0Q1Xc",
        "colab_type": "text"
      },
      "source": [
        "MFCC feature Extraction "
      ]
    },
    {
      "cell_type": "code",
      "metadata": {
        "id": "xQXcSinDh-cc",
        "colab_type": "code",
        "colab": {}
      },
      "source": [
        "df = pd.DataFrame(columns=['feature'])\n",
        "counter = 0\n",
        "def extract_features(data,sample_rate):\n",
        "    global counter\n",
        "    result = np.array([])\n",
        "    \n",
        "    # MFCC\n",
        "    mfcc = np.mean(librosa.feature.mfcc(y=data, sr=sample_rate).T, axis=0)\n",
        "    # result = np.hstack((result, mfcc)) # stacking horizontally\n",
        "    df.loc[counter] = [mfcc]\n",
        "    counter= counter+1\n",
        "\n",
        "   \n",
        "    return df\n",
        "\n",
        "def get_features(path):\n",
        "    # duration and offset are used to take care of the no audio in start and the ending of each audio files as seen above.\n",
        "    data, sample_rate = librosa.load(path, duration=2.5, offset=0.6)\n",
        "    \n",
        "    # without augmentation\n",
        "    res1 = extract_features(data, sample_rate)\n",
        "    # result = np.array(res1)\n",
        "    result = res1\n",
        "    \n",
        "   \n",
        "    \n",
        "    # return result\n"
      ],
      "execution_count": null,
      "outputs": []
    },
    {
      "cell_type": "code",
      "metadata": {
        "id": "Er8CK6kCq_dd",
        "colab_type": "code",
        "colab": {
          "base_uri": "https://localhost:8080/",
          "height": 50
        },
        "outputId": "3db65dda-cc56-4a64-f077-8c4ac9d9ccfb"
      },
      "source": [
        "data_path.Emotions.unique()"
      ],
      "execution_count": null,
      "outputs": [
        {
          "output_type": "execute_result",
          "data": {
            "text/plain": [
              "array(['disgust', 'happy', 'neutral', 'calm', 'sad', 'angry', 'surprise',\n",
              "       'fear'], dtype=object)"
            ]
          },
          "metadata": {
            "tags": []
          },
          "execution_count": 24
        }
      ]
    },
    {
      "cell_type": "code",
      "metadata": {
        "id": "4QmcYi3pid_4",
        "colab_type": "code",
        "colab": {}
      },
      "source": [
        "X, Y = [], []\n",
        "for path, emotion in zip(data_path.Path, data_path.Emotions):\n",
        "  get_features(path)\n",
        "   "
      ],
      "execution_count": null,
      "outputs": []
    },
    {
      "cell_type": "code",
      "metadata": {
        "id": "ERO_j1oFeFUM",
        "colab_type": "code",
        "colab": {
          "base_uri": "https://localhost:8080/",
          "height": 33
        },
        "outputId": "af9e28e0-c447-41ce-c24e-8a01b3691ee4"
      },
      "source": [
        "df.shape"
      ],
      "execution_count": null,
      "outputs": [
        {
          "output_type": "execute_result",
          "data": {
            "text/plain": [
              "(12162, 1)"
            ]
          },
          "metadata": {
            "tags": []
          },
          "execution_count": 26
        }
      ]
    },
    {
      "cell_type": "code",
      "metadata": {
        "id": "WLeqM62pssKF",
        "colab_type": "code",
        "colab": {}
      },
      "source": [
        "\n",
        "df2 = pd.concat([data_path,pd.DataFrame(df['feature'].values.tolist())],axis=1)\n",
        "df2.head()"
      ],
      "execution_count": null,
      "outputs": []
    },
    {
      "cell_type": "code",
      "metadata": {
        "id": "6v-vt9fwhRdS",
        "colab_type": "code",
        "colab": {
          "base_uri": "https://localhost:8080/",
          "height": 33
        },
        "outputId": "8af5273d-00d5-4279-f4ab-2a0537212149"
      },
      "source": [
        "df2.shape"
      ],
      "execution_count": null,
      "outputs": [
        {
          "output_type": "execute_result",
          "data": {
            "text/plain": [
              "(12162, 22)"
            ]
          },
          "metadata": {
            "tags": []
          },
          "execution_count": 29
        }
      ]
    },
    {
      "cell_type": "code",
      "metadata": {
        "id": "v7N6WoDZsv1M",
        "colab_type": "code",
        "colab": {}
      },
      "source": [
        "Y = df2['Emotions'].values\n",
        "df3=df2.drop(['Emotions','Path'],axis=1)\n",
        "X = df3.iloc[: ,:].values"
      ],
      "execution_count": null,
      "outputs": []
    },
    {
      "cell_type": "code",
      "metadata": {
        "id": "UmOA09tJe_YD",
        "colab_type": "code",
        "colab": {
          "base_uri": "https://localhost:8080/",
          "height": 33
        },
        "outputId": "eb17074c-92e4-45ee-e3c2-7f739e69d333"
      },
      "source": [
        "Y.shape"
      ],
      "execution_count": null,
      "outputs": [
        {
          "output_type": "execute_result",
          "data": {
            "text/plain": [
              "(12162,)"
            ]
          },
          "metadata": {
            "tags": []
          },
          "execution_count": 31
        }
      ]
    },
    {
      "cell_type": "code",
      "metadata": {
        "id": "tkIoh0eUs17K",
        "colab_type": "code",
        "colab": {}
      },
      "source": [
        "encoder = OneHotEncoder()\n",
        "Y = encoder.fit_transform(np.array(Y).reshape(-1,1)).toarray()"
      ],
      "execution_count": null,
      "outputs": []
    },
    {
      "cell_type": "code",
      "metadata": {
        "id": "xQ9lApiZs4mF",
        "colab_type": "code",
        "colab": {
          "base_uri": "https://localhost:8080/",
          "height": 33
        },
        "outputId": "9ed093ac-73a6-4a70-b449-1ae41189ecfb"
      },
      "source": [
        "# splitting data\n",
        "x_train, x_test, y_train, y_test = train_test_split(X, Y, random_state=0, shuffle=True)\n",
        "x_train.shape, y_train.shape, x_test.shape, y_test.shape"
      ],
      "execution_count": null,
      "outputs": [
        {
          "output_type": "execute_result",
          "data": {
            "text/plain": [
              "((9121, 20), (9121, 8), (3041, 20), (3041, 8))"
            ]
          },
          "metadata": {
            "tags": []
          },
          "execution_count": 33
        }
      ]
    },
    {
      "cell_type": "code",
      "metadata": {
        "id": "y5ogrqyds739",
        "colab_type": "code",
        "colab": {
          "base_uri": "https://localhost:8080/",
          "height": 33
        },
        "outputId": "a6cbdae6-b8b7-4240-bd8b-3bfa2d2dd0cf"
      },
      "source": [
        "\n",
        "scaler = StandardScaler()\n",
        "x_train = scaler.fit_transform(x_train)\n",
        "x_test = scaler.transform(x_test)\n",
        "x_train.shape, y_train.shape, x_test.shape, y_test.shape"
      ],
      "execution_count": null,
      "outputs": [
        {
          "output_type": "execute_result",
          "data": {
            "text/plain": [
              "((9121, 20), (9121, 8), (3041, 20), (3041, 8))"
            ]
          },
          "metadata": {
            "tags": []
          },
          "execution_count": 34
        }
      ]
    },
    {
      "cell_type": "code",
      "metadata": {
        "id": "8UwcDH0bs_5v",
        "colab_type": "code",
        "colab": {
          "base_uri": "https://localhost:8080/",
          "height": 33
        },
        "outputId": "6e0134bf-ef04-4a64-c2f0-7b71ab9a78c1"
      },
      "source": [
        "# making our data compatible to model.\n",
        "x_train = np.expand_dims(x_train, axis=2)\n",
        "x_test = np.expand_dims(x_test, axis=2)\n",
        "x_train.shape, y_train.shape, x_test.shape, y_test.shape"
      ],
      "execution_count": null,
      "outputs": [
        {
          "output_type": "execute_result",
          "data": {
            "text/plain": [
              "((9121, 20, 1), (9121, 8), (3041, 20, 1), (3041, 8))"
            ]
          },
          "metadata": {
            "tags": []
          },
          "execution_count": 35
        }
      ]
    },
    {
      "cell_type": "code",
      "metadata": {
        "id": "Uatl0P08bk1m",
        "colab_type": "code",
        "colab": {}
      },
      "source": [
        "\n",
        "callback = tf.keras.callbacks.EarlyStopping(monitor='loss', patience=3)"
      ],
      "execution_count": null,
      "outputs": []
    },
    {
      "cell_type": "code",
      "metadata": {
        "id": "I0yXsV2gqjf5",
        "colab_type": "code",
        "colab": {
          "base_uri": "https://localhost:8080/",
          "height": 650
        },
        "outputId": "7cade193-2090-47ad-87ee-157ba8e195a5"
      },
      "source": [
        "model=Sequential()\n",
        "model.add(Conv1D(256, kernel_size=5, strides=1, padding='same', activation='relu', input_shape=(x_train.shape[1], 1)))\n",
        "model.add(MaxPooling1D(pool_size=5, strides = 2, padding = 'same'))\n",
        "\n",
        "model.add(Conv1D(256, kernel_size=5, strides=1, padding='same', activation='relu'))\n",
        "model.add(MaxPooling1D(pool_size=5, strides = 2, padding = 'same'))\n",
        "\n",
        "model.add(Conv1D(128, kernel_size=5, strides=1, padding='same', activation='relu'))\n",
        "model.add(MaxPooling1D(pool_size=5, strides = 2, padding = 'same'))\n",
        "model.add(Dropout(0.2))\n",
        "\n",
        "model.add(Conv1D(64, kernel_size=5, strides=1, padding='same', activation='relu'))\n",
        "model.add(MaxPooling1D(pool_size=5, strides = 2, padding = 'same'))\n",
        "\n",
        "\n",
        "model.add(Flatten())\n",
        "model.add(Dense(units=32, activation='relu'))\n",
        "model.add(Dropout(0.3))\n",
        "\n",
        "model.add(Dense(units=16, activation='relu'))\n",
        "model.add(Dropout(0.3))\n",
        "\n",
        "model.add(Dense(units=8, activation='softmax'))\n",
        "model.compile(optimizer = 'adam' , loss = 'categorical_crossentropy' , metrics = ['accuracy'])\n",
        "\n",
        "model.summary()"
      ],
      "execution_count": null,
      "outputs": [
        {
          "output_type": "stream",
          "text": [
            "Model: \"sequential_3\"\n",
            "_________________________________________________________________\n",
            "Layer (type)                 Output Shape              Param #   \n",
            "=================================================================\n",
            "conv1d_9 (Conv1D)            (None, 20, 256)           1536      \n",
            "_________________________________________________________________\n",
            "max_pooling1d_9 (MaxPooling1 (None, 10, 256)           0         \n",
            "_________________________________________________________________\n",
            "conv1d_10 (Conv1D)           (None, 10, 256)           327936    \n",
            "_________________________________________________________________\n",
            "max_pooling1d_10 (MaxPooling (None, 5, 256)            0         \n",
            "_________________________________________________________________\n",
            "conv1d_11 (Conv1D)           (None, 5, 128)            163968    \n",
            "_________________________________________________________________\n",
            "max_pooling1d_11 (MaxPooling (None, 3, 128)            0         \n",
            "_________________________________________________________________\n",
            "dropout_7 (Dropout)          (None, 3, 128)            0         \n",
            "_________________________________________________________________\n",
            "conv1d_12 (Conv1D)           (None, 3, 64)             41024     \n",
            "_________________________________________________________________\n",
            "max_pooling1d_12 (MaxPooling (None, 2, 64)             0         \n",
            "_________________________________________________________________\n",
            "flatten_3 (Flatten)          (None, 128)               0         \n",
            "_________________________________________________________________\n",
            "dense_7 (Dense)              (None, 32)                4128      \n",
            "_________________________________________________________________\n",
            "dropout_8 (Dropout)          (None, 32)                0         \n",
            "_________________________________________________________________\n",
            "dense_8 (Dense)              (None, 16)                528       \n",
            "_________________________________________________________________\n",
            "dropout_9 (Dropout)          (None, 16)                0         \n",
            "_________________________________________________________________\n",
            "dense_9 (Dense)              (None, 8)                 136       \n",
            "=================================================================\n",
            "Total params: 539,256\n",
            "Trainable params: 539,256\n",
            "Non-trainable params: 0\n",
            "_________________________________________________________________\n"
          ],
          "name": "stdout"
        }
      ]
    },
    {
      "cell_type": "code",
      "metadata": {
        "id": "fV0Pflocq4sn",
        "colab_type": "code",
        "colab": {
          "base_uri": "https://localhost:8080/",
          "height": 1000
        },
        "outputId": "2168554f-e393-4e46-fb63-5118a99c59bb"
      },
      "source": [
        "history=model.fit(x_train, y_train, batch_size=64, epochs=50, validation_data=(x_test, y_test), callbacks=[callback])"
      ],
      "execution_count": null,
      "outputs": [
        {
          "output_type": "stream",
          "text": [
            "Train on 9121 samples, validate on 3041 samples\n",
            "Epoch 1/50\n",
            "9121/9121 [==============================] - 19s 2ms/step - loss: 1.9547 - accuracy: 0.2074 - val_loss: 1.7646 - val_accuracy: 0.2976\n",
            "Epoch 2/50\n",
            "9121/9121 [==============================] - 18s 2ms/step - loss: 1.7708 - accuracy: 0.2905 - val_loss: 1.6206 - val_accuracy: 0.3574\n",
            "Epoch 3/50\n",
            "9121/9121 [==============================] - 18s 2ms/step - loss: 1.6457 - accuracy: 0.3458 - val_loss: 1.5072 - val_accuracy: 0.4028\n",
            "Epoch 4/50\n",
            "9121/9121 [==============================] - 18s 2ms/step - loss: 1.5612 - accuracy: 0.3748 - val_loss: 1.4375 - val_accuracy: 0.4163\n",
            "Epoch 5/50\n",
            "9121/9121 [==============================] - 18s 2ms/step - loss: 1.5167 - accuracy: 0.3897 - val_loss: 1.4118 - val_accuracy: 0.4288\n",
            "Epoch 6/50\n",
            "9121/9121 [==============================] - 19s 2ms/step - loss: 1.4810 - accuracy: 0.4052 - val_loss: 1.3676 - val_accuracy: 0.4535\n",
            "Epoch 7/50\n",
            "9121/9121 [==============================] - 18s 2ms/step - loss: 1.4408 - accuracy: 0.4250 - val_loss: 1.3252 - val_accuracy: 0.4725\n",
            "Epoch 8/50\n",
            "9121/9121 [==============================] - 18s 2ms/step - loss: 1.4259 - accuracy: 0.4326 - val_loss: 1.2955 - val_accuracy: 0.4850\n",
            "Epoch 9/50\n",
            "9121/9121 [==============================] - 18s 2ms/step - loss: 1.3678 - accuracy: 0.4536 - val_loss: 1.2976 - val_accuracy: 0.4873\n",
            "Epoch 10/50\n",
            "9121/9121 [==============================] - 18s 2ms/step - loss: 1.3537 - accuracy: 0.4621 - val_loss: 1.2865 - val_accuracy: 0.5081\n",
            "Epoch 11/50\n",
            "9121/9121 [==============================] - 19s 2ms/step - loss: 1.3215 - accuracy: 0.4840 - val_loss: 1.2726 - val_accuracy: 0.5094\n",
            "Epoch 12/50\n",
            "9121/9121 [==============================] - 18s 2ms/step - loss: 1.3187 - accuracy: 0.4774 - val_loss: 1.2386 - val_accuracy: 0.5123\n",
            "Epoch 13/50\n",
            "9121/9121 [==============================] - 19s 2ms/step - loss: 1.2685 - accuracy: 0.5054 - val_loss: 1.2267 - val_accuracy: 0.5232\n",
            "Epoch 14/50\n",
            "9121/9121 [==============================] - 19s 2ms/step - loss: 1.2584 - accuracy: 0.5051 - val_loss: 1.2182 - val_accuracy: 0.5238\n",
            "Epoch 15/50\n",
            "9121/9121 [==============================] - 18s 2ms/step - loss: 1.2331 - accuracy: 0.5170 - val_loss: 1.2255 - val_accuracy: 0.5271\n",
            "Epoch 16/50\n",
            "9121/9121 [==============================] - 18s 2ms/step - loss: 1.2257 - accuracy: 0.5164 - val_loss: 1.2322 - val_accuracy: 0.5258\n",
            "Epoch 17/50\n",
            "9121/9121 [==============================] - 18s 2ms/step - loss: 1.2142 - accuracy: 0.5240 - val_loss: 1.2171 - val_accuracy: 0.5363\n",
            "Epoch 18/50\n",
            "9121/9121 [==============================] - 18s 2ms/step - loss: 1.1739 - accuracy: 0.5425 - val_loss: 1.2167 - val_accuracy: 0.5396\n",
            "Epoch 19/50\n",
            "9121/9121 [==============================] - 18s 2ms/step - loss: 1.1608 - accuracy: 0.5471 - val_loss: 1.2619 - val_accuracy: 0.5199\n",
            "Epoch 20/50\n",
            "9121/9121 [==============================] - 18s 2ms/step - loss: 1.1513 - accuracy: 0.5471 - val_loss: 1.2083 - val_accuracy: 0.5252\n",
            "Epoch 21/50\n",
            "9121/9121 [==============================] - 18s 2ms/step - loss: 1.1685 - accuracy: 0.5473 - val_loss: 1.2120 - val_accuracy: 0.5271\n",
            "Epoch 22/50\n",
            "9121/9121 [==============================] - 18s 2ms/step - loss: 1.1125 - accuracy: 0.5678 - val_loss: 1.2188 - val_accuracy: 0.5449\n",
            "Epoch 23/50\n",
            "9121/9121 [==============================] - 18s 2ms/step - loss: 1.1160 - accuracy: 0.5656 - val_loss: 1.2217 - val_accuracy: 0.5347\n",
            "Epoch 24/50\n",
            "9121/9121 [==============================] - 18s 2ms/step - loss: 1.1166 - accuracy: 0.5668 - val_loss: 1.2191 - val_accuracy: 0.5383\n",
            "Epoch 25/50\n",
            "9121/9121 [==============================] - 18s 2ms/step - loss: 1.0850 - accuracy: 0.5807 - val_loss: 1.2346 - val_accuracy: 0.5548\n",
            "Epoch 26/50\n",
            "9121/9121 [==============================] - 18s 2ms/step - loss: 1.0772 - accuracy: 0.5852 - val_loss: 1.2435 - val_accuracy: 0.5416\n",
            "Epoch 27/50\n",
            "9121/9121 [==============================] - 18s 2ms/step - loss: 1.0422 - accuracy: 0.5945 - val_loss: 1.2320 - val_accuracy: 0.5383\n",
            "Epoch 28/50\n",
            "9121/9121 [==============================] - 19s 2ms/step - loss: 1.0198 - accuracy: 0.6122 - val_loss: 1.2970 - val_accuracy: 0.5314\n",
            "Epoch 29/50\n",
            "9121/9121 [==============================] - 18s 2ms/step - loss: 1.0091 - accuracy: 0.6162 - val_loss: 1.2920 - val_accuracy: 0.5229\n",
            "Epoch 30/50\n",
            "9121/9121 [==============================] - 18s 2ms/step - loss: 0.9995 - accuracy: 0.6177 - val_loss: 1.3258 - val_accuracy: 0.5439\n",
            "Epoch 31/50\n",
            "9121/9121 [==============================] - 19s 2ms/step - loss: 1.0664 - accuracy: 0.5936 - val_loss: 1.2818 - val_accuracy: 0.5383\n",
            "Epoch 32/50\n",
            "9121/9121 [==============================] - 18s 2ms/step - loss: 0.9581 - accuracy: 0.6421 - val_loss: 1.3502 - val_accuracy: 0.5229\n",
            "Epoch 33/50\n",
            "9121/9121 [==============================] - 18s 2ms/step - loss: 0.9789 - accuracy: 0.6298 - val_loss: 1.2871 - val_accuracy: 0.5465\n",
            "Epoch 34/50\n",
            "9121/9121 [==============================] - 18s 2ms/step - loss: 0.9299 - accuracy: 0.6472 - val_loss: 1.3462 - val_accuracy: 0.5255\n",
            "Epoch 35/50\n",
            "9121/9121 [==============================] - 18s 2ms/step - loss: 0.9046 - accuracy: 0.6579 - val_loss: 1.3718 - val_accuracy: 0.5393\n",
            "Epoch 36/50\n",
            "9121/9121 [==============================] - 18s 2ms/step - loss: 0.9017 - accuracy: 0.6588 - val_loss: 1.3525 - val_accuracy: 0.5370\n",
            "Epoch 37/50\n",
            "9121/9121 [==============================] - 18s 2ms/step - loss: 0.9081 - accuracy: 0.6605 - val_loss: 1.3772 - val_accuracy: 0.5344\n",
            "Epoch 38/50\n",
            "9121/9121 [==============================] - 18s 2ms/step - loss: 0.8739 - accuracy: 0.6712 - val_loss: 1.4990 - val_accuracy: 0.5324\n",
            "Epoch 39/50\n",
            "9121/9121 [==============================] - 18s 2ms/step - loss: 0.8658 - accuracy: 0.6826 - val_loss: 1.5285 - val_accuracy: 0.5472\n",
            "Epoch 40/50\n",
            "9121/9121 [==============================] - 18s 2ms/step - loss: 0.8643 - accuracy: 0.6780 - val_loss: 1.4186 - val_accuracy: 0.5324\n",
            "Epoch 41/50\n",
            "9121/9121 [==============================] - 18s 2ms/step - loss: 0.8329 - accuracy: 0.6880 - val_loss: 1.4769 - val_accuracy: 0.5521\n",
            "Epoch 42/50\n",
            "9121/9121 [==============================] - 18s 2ms/step - loss: 0.8161 - accuracy: 0.6946 - val_loss: 1.5276 - val_accuracy: 0.5426\n",
            "Epoch 43/50\n",
            "9121/9121 [==============================] - 18s 2ms/step - loss: 0.8016 - accuracy: 0.7021 - val_loss: 1.5634 - val_accuracy: 0.5354\n",
            "Epoch 44/50\n",
            "9121/9121 [==============================] - 18s 2ms/step - loss: 0.7447 - accuracy: 0.7242 - val_loss: 1.6995 - val_accuracy: 0.5307\n",
            "Epoch 45/50\n",
            "9121/9121 [==============================] - 19s 2ms/step - loss: 0.7367 - accuracy: 0.7279 - val_loss: 1.6123 - val_accuracy: 0.5449\n",
            "Epoch 46/50\n",
            "9121/9121 [==============================] - 18s 2ms/step - loss: 0.7703 - accuracy: 0.7175 - val_loss: 1.7036 - val_accuracy: 0.5373\n",
            "Epoch 47/50\n",
            "9121/9121 [==============================] - 18s 2ms/step - loss: 0.7495 - accuracy: 0.7270 - val_loss: 1.6133 - val_accuracy: 0.5327\n",
            "Epoch 48/50\n",
            "9121/9121 [==============================] - 19s 2ms/step - loss: 0.7436 - accuracy: 0.7296 - val_loss: 1.6644 - val_accuracy: 0.5330\n"
          ],
          "name": "stdout"
        }
      ]
    },
    {
      "cell_type": "code",
      "metadata": {
        "id": "yUNmrVporzb7",
        "colab_type": "code",
        "colab": {
          "base_uri": "https://localhost:8080/",
          "height": 437
        },
        "outputId": "f497a1d8-5bbc-4134-82e8-123269a53cb5"
      },
      "source": [
        "print(\"Accuracy of our model on test data : \" , model.evaluate(x_test,y_test)[1]*100 , \"%\")\n",
        "\n",
        "epochs = [i for i in range(48)]\n",
        "fig , ax = plt.subplots(1,2)\n",
        "train_acc = history.history['accuracy']\n",
        "train_loss = history.history['loss']\n",
        "test_acc = history.history['val_accuracy']\n",
        "test_loss = history.history['val_loss']\n",
        "\n",
        "fig.set_size_inches(20,6)\n",
        "ax[0].plot(epochs , train_loss , label = 'Training Loss')\n",
        "ax[0].plot(epochs , test_loss , label = 'Testing Loss')\n",
        "ax[0].set_title('Training & Testing Loss')\n",
        "ax[0].legend()\n",
        "ax[0].set_xlabel(\"Epochs\")\n",
        "\n",
        "ax[1].plot(epochs , train_acc , label = 'Training Accuracy')\n",
        "ax[1].plot(epochs , test_acc , label = 'Testing Accuracy')\n",
        "ax[1].set_title('Training & Testing Accuracy')\n",
        "ax[1].legend()\n",
        "ax[1].set_xlabel(\"Epochs\")\n",
        "plt.show()"
      ],
      "execution_count": null,
      "outputs": [
        {
          "output_type": "stream",
          "text": [
            "3041/3041 [==============================] - 1s 276us/step\n",
            "Accuracy of our model on test data :  53.30483317375183 %\n"
          ],
          "name": "stdout"
        },
        {
          "output_type": "display_data",
          "data": {
            "image/png": "[encoded data removed]",
            "text/plain": [
              "<Figure size 1440x432 with 2 Axes>"
            ]
          },
          "metadata": {
            "tags": [],
            "needs_background": "light"
          }
        }
      ]
    },
    {
      "cell_type": "code",
      "metadata": {
        "id": "EJA3wPk6uRMs",
        "colab_type": "code",
        "colab": {
          "base_uri": "https://localhost:8080/",
          "height": 197
        },
        "outputId": "ce08f5c3-78d7-4539-f5d6-b45276fee1e5"
      },
      "source": [
        "# predicting on test data.\n",
        "pred_test = model.predict(x_test)\n",
        "y_pred = encoder.inverse_transform(pred_test)\n",
        "\n",
        "y_test = encoder.inverse_transform(y_test)\n",
        "\n",
        "df = pd.DataFrame(columns=['Predicted Labels', 'Actual Labels'])\n",
        "df['Predicted Labels'] = y_pred.flatten()\n",
        "df['Actual Labels'] = y_test.flatten()\n",
        "\n",
        "df.head(5)"
      ],
      "execution_count": null,
      "outputs": [
        {
          "output_type": "execute_result",
          "data": {
            "text/html": [
              "<div>\n",
              "<style scoped>\n",
              "    .dataframe tbody tr th:only-of-type {\n",
              "        vertical-align: middle;\n",
              "    }\n",
              "\n",
              "    .dataframe tbody tr th {\n",
              "        vertical-align: top;\n",
              "    }\n",
              "\n",
              "    .dataframe thead th {\n",
              "        text-align: right;\n",
              "    }\n",
              "</style>\n",
              "<table border=\"1\" class=\"dataframe\">\n",
              "  <thead>\n",
              "    <tr style=\"text-align: right;\">\n",
              "      <th></th>\n",
              "      <th>Predicted Labels</th>\n",
              "      <th>Actual Labels</th>\n",
              "    </tr>\n",
              "  </thead>\n",
              "  <tbody>\n",
              "    <tr>\n",
              "      <th>0</th>\n",
              "      <td>sad</td>\n",
              "      <td>sad</td>\n",
              "    </tr>\n",
              "    <tr>\n",
              "      <th>1</th>\n",
              "      <td>happy</td>\n",
              "      <td>happy</td>\n",
              "    </tr>\n",
              "    <tr>\n",
              "      <th>2</th>\n",
              "      <td>happy</td>\n",
              "      <td>happy</td>\n",
              "    </tr>\n",
              "    <tr>\n",
              "      <th>3</th>\n",
              "      <td>surprise</td>\n",
              "      <td>surprise</td>\n",
              "    </tr>\n",
              "    <tr>\n",
              "      <th>4</th>\n",
              "      <td>happy</td>\n",
              "      <td>happy</td>\n",
              "    </tr>\n",
              "  </tbody>\n",
              "</table>\n",
              "</div>"
            ],
            "text/plain": [
              "  Predicted Labels Actual Labels\n",
              "0              sad           sad\n",
              "1            happy         happy\n",
              "2            happy         happy\n",
              "3         surprise      surprise\n",
              "4            happy         happy"
            ]
          },
          "metadata": {
            "tags": []
          },
          "execution_count": 55
        }
      ]
    },
    {
      "cell_type": "code",
      "metadata": {
        "id": "hWkse_3Iulhw",
        "colab_type": "code",
        "colab": {
          "base_uri": "https://localhost:8080/",
          "height": 630
        },
        "outputId": "64ec0153-09ba-4c1e-eb49-34fab28a21b6"
      },
      "source": [
        "cm = confusion_matrix(y_test, y_pred)\n",
        "plt.figure(figsize = (12, 10))\n",
        "cm = pd.DataFrame(cm , index = [i for i in encoder.categories_] , columns = [i for i in encoder.categories_])\n",
        "sns.heatmap(cm, linecolor='white', cmap='Blues', linewidth=1, annot=True, fmt='')\n",
        "plt.title('Confusion Matrix', size=20)\n",
        "plt.xlabel('Predicted Labels', size=14)\n",
        "plt.ylabel('Actual Labels', size=14)\n",
        "plt.show()"
      ],
      "execution_count": null,
      "outputs": [
        {
          "output_type": "display_data",
          "data": {
            "image/png": "[encoded data removed]",
            "text/plain": [
              "<Figure size 864x720 with 2 Axes>"
            ]
          },
          "metadata": {
            "tags": [],
            "needs_background": "light"
          }
        }
      ]
    },
    {
      "cell_type": "code",
      "metadata": {
        "id": "bEd8yAyRuy1a",
        "colab_type": "code",
        "colab": {
          "base_uri": "https://localhost:8080/",
          "height": 267
        },
        "outputId": "f31ded1f-d06f-460b-f3f0-9c5ae758bc83"
      },
      "source": [
        "print(classification_report(y_test, y_pred))"
      ],
      "execution_count": null,
      "outputs": [
        {
          "output_type": "stream",
          "text": [
            "              precision    recall  f1-score   support\n",
            "\n",
            "       angry       0.71      0.58      0.64       480\n",
            "        calm       0.45      0.73      0.55        52\n",
            "     disgust       0.43      0.47      0.45       451\n",
            "        fear       0.49      0.43      0.46       474\n",
            "       happy       0.49      0.43      0.46       498\n",
            "     neutral       0.53      0.52      0.53       447\n",
            "         sad       0.54      0.64      0.58       489\n",
            "    surprise       0.70      0.84      0.76       150\n",
            "\n",
            "    accuracy                           0.53      3041\n",
            "   macro avg       0.54      0.58      0.55      3041\n",
            "weighted avg       0.54      0.53      0.53      3041\n",
            "\n"
          ],
          "name": "stdout"
        }
      ]
    },
    {
      "cell_type": "code",
      "metadata": {
        "id": "s6iTADJp1jaC",
        "colab_type": "code",
        "colab": {}
      },
      "source": [
        ""
      ],
      "execution_count": null,
      "outputs": []
    }
  ]
}