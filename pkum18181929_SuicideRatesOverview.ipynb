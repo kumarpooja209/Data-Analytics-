{
 "cells": [
  {
   "cell_type": "code",
   "execution_count": 1,
   "metadata": {},
   "outputs": [
    {
     "data": {
      "text/html": [
       "<div>\n",
       "<style scoped>\n",
       "    .dataframe tbody tr th:only-of-type {\n",
       "        vertical-align: middle;\n",
       "    }\n",
       "\n",
       "    .dataframe tbody tr th {\n",
       "        vertical-align: top;\n",
       "    }\n",
       "\n",
       "    .dataframe thead th {\n",
       "        text-align: right;\n",
       "    }\n",
       "</style>\n",
       "<table border=\"1\" class=\"dataframe\">\n",
       "  <thead>\n",
       "    <tr style=\"text-align: right;\">\n",
       "      <th></th>\n",
       "      <th>country</th>\n",
       "      <th>year</th>\n",
       "      <th>sex</th>\n",
       "      <th>age</th>\n",
       "      <th>suicides_no</th>\n",
       "      <th>population</th>\n",
       "      <th>suicides/100k_pop</th>\n",
       "      <th>country_year</th>\n",
       "      <th>HDI _for_year</th>\n",
       "      <th>gdp_for_year</th>\n",
       "      <th>gdp_per_capita</th>\n",
       "      <th>generation</th>\n",
       "    </tr>\n",
       "  </thead>\n",
       "  <tbody>\n",
       "    <tr>\n",
       "      <td>0</td>\n",
       "      <td>Albania</td>\n",
       "      <td>1987</td>\n",
       "      <td>male</td>\n",
       "      <td>15-24 years</td>\n",
       "      <td>21</td>\n",
       "      <td>312900</td>\n",
       "      <td>6.71</td>\n",
       "      <td>Albania1987</td>\n",
       "      <td>NaN</td>\n",
       "      <td>2,156,624,900</td>\n",
       "      <td>796</td>\n",
       "      <td>Generation X</td>\n",
       "    </tr>\n",
       "    <tr>\n",
       "      <td>1</td>\n",
       "      <td>Albania</td>\n",
       "      <td>1987</td>\n",
       "      <td>male</td>\n",
       "      <td>35-54 years</td>\n",
       "      <td>16</td>\n",
       "      <td>308000</td>\n",
       "      <td>5.19</td>\n",
       "      <td>Albania1987</td>\n",
       "      <td>NaN</td>\n",
       "      <td>2,156,624,900</td>\n",
       "      <td>796</td>\n",
       "      <td>Silent</td>\n",
       "    </tr>\n",
       "    <tr>\n",
       "      <td>2</td>\n",
       "      <td>Albania</td>\n",
       "      <td>1987</td>\n",
       "      <td>female</td>\n",
       "      <td>15-24 years</td>\n",
       "      <td>14</td>\n",
       "      <td>289700</td>\n",
       "      <td>4.83</td>\n",
       "      <td>Albania1987</td>\n",
       "      <td>NaN</td>\n",
       "      <td>2,156,624,900</td>\n",
       "      <td>796</td>\n",
       "      <td>Generation X</td>\n",
       "    </tr>\n",
       "    <tr>\n",
       "      <td>3</td>\n",
       "      <td>Albania</td>\n",
       "      <td>1987</td>\n",
       "      <td>male</td>\n",
       "      <td>75+ years</td>\n",
       "      <td>1</td>\n",
       "      <td>21800</td>\n",
       "      <td>4.59</td>\n",
       "      <td>Albania1987</td>\n",
       "      <td>NaN</td>\n",
       "      <td>2,156,624,900</td>\n",
       "      <td>796</td>\n",
       "      <td>G.I. Generation</td>\n",
       "    </tr>\n",
       "    <tr>\n",
       "      <td>4</td>\n",
       "      <td>Albania</td>\n",
       "      <td>1987</td>\n",
       "      <td>male</td>\n",
       "      <td>25-34 years</td>\n",
       "      <td>9</td>\n",
       "      <td>274300</td>\n",
       "      <td>3.28</td>\n",
       "      <td>Albania1987</td>\n",
       "      <td>NaN</td>\n",
       "      <td>2,156,624,900</td>\n",
       "      <td>796</td>\n",
       "      <td>Boomers</td>\n",
       "    </tr>\n",
       "  </tbody>\n",
       "</table>\n",
       "</div>"
      ],
      "text/plain": [
       "   country  year     sex          age  suicides_no  population  \\\n",
       "0  Albania  1987    male  15-24 years           21      312900   \n",
       "1  Albania  1987    male  35-54 years           16      308000   \n",
       "2  Albania  1987  female  15-24 years           14      289700   \n",
       "3  Albania  1987    male    75+ years            1       21800   \n",
       "4  Albania  1987    male  25-34 years            9      274300   \n",
       "\n",
       "   suicides/100k_pop country_year  HDI _for_year   gdp_for_year  \\\n",
       "0               6.71  Albania1987            NaN  2,156,624,900   \n",
       "1               5.19  Albania1987            NaN  2,156,624,900   \n",
       "2               4.83  Albania1987            NaN  2,156,624,900   \n",
       "3               4.59  Albania1987            NaN  2,156,624,900   \n",
       "4               3.28  Albania1987            NaN  2,156,624,900   \n",
       "\n",
       "   gdp_per_capita       generation  \n",
       "0             796     Generation X  \n",
       "1             796           Silent  \n",
       "2             796     Generation X  \n",
       "3             796  G.I. Generation  \n",
       "4             796          Boomers  "
      ]
     },
     "execution_count": 1,
     "metadata": {},
     "output_type": "execute_result"
    }
   ],
   "source": [
    "#importing csv file\n",
    "import numpy as np\n",
    "import pandas as pd \n",
    "sdata= pd.read_csv('D:/Datamining and machine learning/suicidedata.csv')\n",
    "sdata.head()"
   ]
  },
  {
   "cell_type": "code",
   "execution_count": 16,
   "metadata": {},
   "outputs": [
    {
     "data": {
      "text/plain": [
       "(27820, 12)"
      ]
     },
     "execution_count": 16,
     "metadata": {},
     "output_type": "execute_result"
    }
   ],
   "source": [
    "sdata.shape"
   ]
  },
  {
   "cell_type": "code",
   "execution_count": 2,
   "metadata": {},
   "outputs": [],
   "source": [
    "sdata=sdata.rename(columns={'country':'country','year':'year','sex':'gender','age':'age','suicides_no':'suicidesno',\n",
    "                            'population':'population','suicides/100k pop':'suicidesperpop',\n",
    "                            'HDI _for_year':'HDI_for_year',' gdp_for_year':'gdp_for_year',\n",
    "                          'gdp_per_capita':'gdp_per_capital','generation':'generation'})"
   ]
  },
  {
   "cell_type": "code",
   "execution_count": 5,
   "metadata": {},
   "outputs": [
    {
     "data": {
      "text/plain": [
       "country                  0\n",
       "year                     0\n",
       "gender                   0\n",
       "age                      0\n",
       "suicidesno               0\n",
       "population               0\n",
       "suicides/100k_pop        0\n",
       "country_year             0\n",
       "HDI_for_year         19456\n",
       "gdp_for_year             0\n",
       "gdp_per_capital          0\n",
       "generation               0\n",
       "dtype: int64"
      ]
     },
     "execution_count": 5,
     "metadata": {},
     "output_type": "execute_result"
    }
   ],
   "source": [
    "#checking for missing values\n",
    "sdata.isnull().sum(axis = 0)"
   ]
  },
  {
   "cell_type": "code",
   "execution_count": 4,
   "metadata": {},
   "outputs": [
    {
     "data": {
      "text/plain": [
       "<matplotlib.axes._subplots.AxesSubplot at 0x136c703b408>"
      ]
     },
     "execution_count": 4,
     "metadata": {},
     "output_type": "execute_result"
    },
    {
     "data": {
      "image/png": "[encoded data removed]",
      "text/plain": [
       "<Figure size 1800x720 with 2 Axes>"
      ]
     },
     "metadata": {
      "needs_background": "light"
     },
     "output_type": "display_data"
    }
   ],
   "source": [
    "# graphical representation of missing values\n",
    "import missingno as msno \n",
    "msno.matrix(sdata)"
   ]
  },
  {
   "cell_type": "code",
   "execution_count": 6,
   "metadata": {},
   "outputs": [
    {
     "name": "stdout",
     "output_type": "stream",
     "text": [
      "<class 'pandas.core.frame.DataFrame'>\n",
      "RangeIndex: 27820 entries, 0 to 27819\n",
      "Data columns (total 12 columns):\n",
      "country              27820 non-null object\n",
      "year                 27820 non-null int64\n",
      "gender               27820 non-null object\n",
      "age                  27820 non-null object\n",
      "suicidesno           27820 non-null int64\n",
      "population           27820 non-null int64\n",
      "suicides/100k_pop    27820 non-null float64\n",
      "country_year         27820 non-null object\n",
      "HDI_for_year         27820 non-null float64\n",
      "gdp_for_year         27820 non-null object\n",
      "gdp_per_capital      27820 non-null int64\n",
      "generation           27820 non-null object\n",
      "dtypes: float64(2), int64(4), object(6)\n",
      "memory usage: 2.5+ MB\n"
     ]
    }
   ],
   "source": [
    "#imputing the missing values using median\n",
    "sdata1=sdata\n",
    "sdata1.HDI_for_year = sdata1.HDI_for_year.fillna(sdata1.HDI_for_year.median())\n",
    "sdata1.info()"
   ]
  },
  {
   "cell_type": "code",
   "execution_count": 9,
   "metadata": {},
   "outputs": [
    {
     "name": "stdout",
     "output_type": "stream",
     "text": [
      "<class 'pandas.core.frame.DataFrame'>\n",
      "RangeIndex: 27820 entries, 0 to 27819\n",
      "Data columns (total 5 columns):\n",
      "suicidesno         27820 non-null int64\n",
      "suicidesperpop     27820 non-null float64\n",
      "population         27820 non-null int64\n",
      "HDI_for_year       27820 non-null float64\n",
      "gdp_per_capital    27820 non-null int64\n",
      "dtypes: float64(2), int64(3)\n",
      "memory usage: 1.1 MB\n"
     ]
    }
   ],
   "source": [
    "sdata1=sdata.rename(columns={'suicides/100k_pop':'suicidesperpop'})\n",
    "sdata2=sdata1[['suicidesno','suicidesperpop','population','HDI_for_year','gdp_per_capital']]\n",
    "sdata2.info()"
   ]
  },
  {
   "cell_type": "code",
   "execution_count": 10,
   "metadata": {},
   "outputs": [
    {
     "data": {
      "text/plain": [
       "population         0.616162\n",
       "suicidesperpop     0.306604\n",
       "HDI_for_year       0.063224\n",
       "gdp_per_capital    0.061330\n",
       "Name: suicidesno, dtype: float64"
      ]
     },
     "execution_count": 10,
     "metadata": {},
     "output_type": "execute_result"
    }
   ],
   "source": [
    "suicide_corr = sdata2.corr()[\"suicidesno\"]\n",
    "suicide_corr.abs().sort_values(ascending=False)[1:]"
   ]
  },
  {
   "cell_type": "code",
   "execution_count": 11,
   "metadata": {},
   "outputs": [
    {
     "data": {
      "text/html": [
       "<div>\n",
       "<style scoped>\n",
       "    .dataframe tbody tr th:only-of-type {\n",
       "        vertical-align: middle;\n",
       "    }\n",
       "\n",
       "    .dataframe tbody tr th {\n",
       "        vertical-align: top;\n",
       "    }\n",
       "\n",
       "    .dataframe thead th {\n",
       "        text-align: right;\n",
       "    }\n",
       "</style>\n",
       "<table border=\"1\" class=\"dataframe\">\n",
       "  <thead>\n",
       "    <tr style=\"text-align: right;\">\n",
       "      <th></th>\n",
       "      <th>suicidesno</th>\n",
       "      <th>suicidesperpop</th>\n",
       "      <th>population</th>\n",
       "      <th>HDI_for_year</th>\n",
       "      <th>gdp_per_capital</th>\n",
       "    </tr>\n",
       "  </thead>\n",
       "  <tbody>\n",
       "    <tr>\n",
       "      <td>suicidesno</td>\n",
       "      <td>1.000000</td>\n",
       "      <td>0.306604</td>\n",
       "      <td>0.616162</td>\n",
       "      <td>0.063224</td>\n",
       "      <td>0.061330</td>\n",
       "    </tr>\n",
       "    <tr>\n",
       "      <td>suicidesperpop</td>\n",
       "      <td>0.306604</td>\n",
       "      <td>1.000000</td>\n",
       "      <td>0.008285</td>\n",
       "      <td>0.037894</td>\n",
       "      <td>0.001785</td>\n",
       "    </tr>\n",
       "    <tr>\n",
       "      <td>population</td>\n",
       "      <td>0.616162</td>\n",
       "      <td>0.008285</td>\n",
       "      <td>1.000000</td>\n",
       "      <td>0.057240</td>\n",
       "      <td>0.081510</td>\n",
       "    </tr>\n",
       "    <tr>\n",
       "      <td>HDI_for_year</td>\n",
       "      <td>0.063224</td>\n",
       "      <td>0.037894</td>\n",
       "      <td>0.057240</td>\n",
       "      <td>1.000000</td>\n",
       "      <td>0.502250</td>\n",
       "    </tr>\n",
       "    <tr>\n",
       "      <td>gdp_per_capital</td>\n",
       "      <td>0.061330</td>\n",
       "      <td>0.001785</td>\n",
       "      <td>0.081510</td>\n",
       "      <td>0.502250</td>\n",
       "      <td>1.000000</td>\n",
       "    </tr>\n",
       "  </tbody>\n",
       "</table>\n",
       "</div>"
      ],
      "text/plain": [
       "                 suicidesno  suicidesperpop  population  HDI_for_year  \\\n",
       "suicidesno         1.000000        0.306604    0.616162      0.063224   \n",
       "suicidesperpop     0.306604        1.000000    0.008285      0.037894   \n",
       "population         0.616162        0.008285    1.000000      0.057240   \n",
       "HDI_for_year       0.063224        0.037894    0.057240      1.000000   \n",
       "gdp_per_capital    0.061330        0.001785    0.081510      0.502250   \n",
       "\n",
       "                 gdp_per_capital  \n",
       "suicidesno              0.061330  \n",
       "suicidesperpop          0.001785  \n",
       "population              0.081510  \n",
       "HDI_for_year            0.502250  \n",
       "gdp_per_capital         1.000000  "
      ]
     },
     "execution_count": 11,
     "metadata": {},
     "output_type": "execute_result"
    }
   ],
   "source": [
    "#correlation matrix\n",
    "sdata2.corr()"
   ]
  },
  {
   "cell_type": "code",
   "execution_count": 12,
   "metadata": {},
   "outputs": [],
   "source": [
    "from sklearn.model_selection import train_test_split\n",
    "\n",
    "x = sdata2[sdata2.loc[:, sdata2.columns != 'suicidesno'].columns] \n",
    "y = sdata2['suicidesno']"
   ]
  },
  {
   "cell_type": "code",
   "execution_count": 13,
   "metadata": {},
   "outputs": [
    {
     "data": {
      "text/html": [
       "<table class=\"simpletable\">\n",
       "<caption>OLS Regression Results</caption>\n",
       "<tr>\n",
       "  <th>Dep. Variable:</th>       <td>suicidesno</td>    <th>  R-squared:         </th>  <td>   0.471</td>  \n",
       "</tr>\n",
       "<tr>\n",
       "  <th>Model:</th>                   <td>OLS</td>       <th>  Adj. R-squared:    </th>  <td>   0.471</td>  \n",
       "</tr>\n",
       "<tr>\n",
       "  <th>Method:</th>             <td>Least Squares</td>  <th>  F-statistic:       </th>  <td>   6188.</td>  \n",
       "</tr>\n",
       "<tr>\n",
       "  <th>Date:</th>             <td>Sun, 03 May 2020</td> <th>  Prob (F-statistic):</th>   <td>  0.00</td>   \n",
       "</tr>\n",
       "<tr>\n",
       "  <th>Time:</th>                 <td>19:21:10</td>     <th>  Log-Likelihood:    </th> <td>-2.1993e+05</td>\n",
       "</tr>\n",
       "<tr>\n",
       "  <th>No. Observations:</th>      <td> 27820</td>      <th>  AIC:               </th>  <td>4.399e+05</td> \n",
       "</tr>\n",
       "<tr>\n",
       "  <th>Df Residuals:</th>          <td> 27815</td>      <th>  BIC:               </th>  <td>4.399e+05</td> \n",
       "</tr>\n",
       "<tr>\n",
       "  <th>Df Model:</th>              <td>     4</td>      <th>                     </th>      <td> </td>     \n",
       "</tr>\n",
       "<tr>\n",
       "  <th>Covariance Type:</th>      <td>nonrobust</td>    <th>                     </th>      <td> </td>     \n",
       "</tr>\n",
       "</table>\n",
       "<table class=\"simpletable\">\n",
       "<tr>\n",
       "         <td></td>            <th>coef</th>     <th>std err</th>      <th>t</th>      <th>P>|t|</th>  <th>[0.025</th>    <th>0.975]</th>  \n",
       "</tr>\n",
       "<tr>\n",
       "  <th>Intercept</th>       <td> -411.3494</td> <td>   67.324</td> <td>   -6.110</td> <td> 0.000</td> <td> -543.308</td> <td> -279.391</td>\n",
       "</tr>\n",
       "<tr>\n",
       "  <th>population</th>      <td>    0.0001</td> <td> 1.01e-06</td> <td>  139.941</td> <td> 0.000</td> <td>    0.000</td> <td>    0.000</td>\n",
       "</tr>\n",
       "<tr>\n",
       "  <th>HDI_for_year</th>    <td>  266.2567</td> <td>   88.955</td> <td>    2.993</td> <td> 0.003</td> <td>   91.900</td> <td>  440.614</td>\n",
       "</tr>\n",
       "<tr>\n",
       "  <th>gdp_per_capital</th> <td>    0.0002</td> <td>    0.000</td> <td>    0.648</td> <td> 0.517</td> <td>   -0.000</td> <td>    0.001</td>\n",
       "</tr>\n",
       "<tr>\n",
       "  <th>suicidesperpop</th>  <td>   14.3170</td> <td>    0.208</td> <td>   68.934</td> <td> 0.000</td> <td>   13.910</td> <td>   14.724</td>\n",
       "</tr>\n",
       "</table>\n",
       "<table class=\"simpletable\">\n",
       "<tr>\n",
       "  <th>Omnibus:</th>       <td>43059.132</td> <th>  Durbin-Watson:     </th>   <td>   1.040</td>  \n",
       "</tr>\n",
       "<tr>\n",
       "  <th>Prob(Omnibus):</th>  <td> 0.000</td>   <th>  Jarque-Bera (JB):  </th> <td>45887269.760</td>\n",
       "</tr>\n",
       "<tr>\n",
       "  <th>Skew:</th>           <td> 9.560</td>   <th>  Prob(JB):          </th>   <td>    0.00</td>  \n",
       "</tr>\n",
       "<tr>\n",
       "  <th>Kurtosis:</th>       <td>201.043</td>  <th>  Cond. No.          </th>   <td>1.23e+08</td>  \n",
       "</tr>\n",
       "</table><br/><br/>Warnings:<br/>[1] Standard Errors assume that the covariance matrix of the errors is correctly specified.<br/>[2] The condition number is large, 1.23e+08. This might indicate that there are<br/>strong multicollinearity or other numerical problems."
      ],
      "text/plain": [
       "<class 'statsmodels.iolib.summary.Summary'>\n",
       "\"\"\"\n",
       "                            OLS Regression Results                            \n",
       "==============================================================================\n",
       "Dep. Variable:             suicidesno   R-squared:                       0.471\n",
       "Model:                            OLS   Adj. R-squared:                  0.471\n",
       "Method:                 Least Squares   F-statistic:                     6188.\n",
       "Date:                Sun, 03 May 2020   Prob (F-statistic):               0.00\n",
       "Time:                        19:21:10   Log-Likelihood:            -2.1993e+05\n",
       "No. Observations:               27820   AIC:                         4.399e+05\n",
       "Df Residuals:                   27815   BIC:                         4.399e+05\n",
       "Df Model:                           4                                         \n",
       "Covariance Type:            nonrobust                                         \n",
       "===================================================================================\n",
       "                      coef    std err          t      P>|t|      [0.025      0.975]\n",
       "-----------------------------------------------------------------------------------\n",
       "Intercept        -411.3494     67.324     -6.110      0.000    -543.308    -279.391\n",
       "population          0.0001   1.01e-06    139.941      0.000       0.000       0.000\n",
       "HDI_for_year      266.2567     88.955      2.993      0.003      91.900     440.614\n",
       "gdp_per_capital     0.0002      0.000      0.648      0.517      -0.000       0.001\n",
       "suicidesperpop     14.3170      0.208     68.934      0.000      13.910      14.724\n",
       "==============================================================================\n",
       "Omnibus:                    43059.132   Durbin-Watson:                   1.040\n",
       "Prob(Omnibus):                  0.000   Jarque-Bera (JB):         45887269.760\n",
       "Skew:                           9.560   Prob(JB):                         0.00\n",
       "Kurtosis:                     201.043   Cond. No.                     1.23e+08\n",
       "==============================================================================\n",
       "\n",
       "Warnings:\n",
       "[1] Standard Errors assume that the covariance matrix of the errors is correctly specified.\n",
       "[2] The condition number is large, 1.23e+08. This might indicate that there are\n",
       "strong multicollinearity or other numerical problems.\n",
       "\"\"\""
      ]
     },
     "execution_count": 13,
     "metadata": {},
     "output_type": "execute_result"
    }
   ],
   "source": [
    "#OLS- statistical linear model was applied to check r-square \n",
    "import statsmodels.formula.api as smf\n",
    "model= smf.ols(\"suicidesno ~ population  + HDI_for_year + gdp_per_capital + suicidesperpop\", data=sdata2).fit()\n",
    "model.summary()"
   ]
  },
  {
   "cell_type": "code",
   "execution_count": 14,
   "metadata": {},
   "outputs": [],
   "source": [
    "# dataset was split into training and testing set\n",
    "x_train, x_test, y_train, y_test = train_test_split(x, y, train_size=0.8, test_size=0.2, random_state=0)"
   ]
  },
  {
   "cell_type": "code",
   "execution_count": 15,
   "metadata": {},
   "outputs": [
    {
     "data": {
      "text/plain": [
       "(27820, 5)"
      ]
     },
     "execution_count": 15,
     "metadata": {},
     "output_type": "execute_result"
    }
   ],
   "source": [
    "sdata2.shape"
   ]
  },
  {
   "cell_type": "code",
   "execution_count": 17,
   "metadata": {},
   "outputs": [
    {
     "data": {
      "text/plain": [
       "(22256, 4)"
      ]
     },
     "execution_count": 17,
     "metadata": {},
     "output_type": "execute_result"
    }
   ],
   "source": [
    "x_train.shape"
   ]
  },
  {
   "cell_type": "code",
   "execution_count": 18,
   "metadata": {},
   "outputs": [
    {
     "data": {
      "text/plain": [
       "(5564, 4)"
      ]
     },
     "execution_count": 18,
     "metadata": {},
     "output_type": "execute_result"
    }
   ],
   "source": [
    "x_test.shape"
   ]
  },
  {
   "cell_type": "code",
   "execution_count": 19,
   "metadata": {},
   "outputs": [
    {
     "data": {
      "text/plain": [
       "0.5146336285133746"
      ]
     },
     "execution_count": 19,
     "metadata": {},
     "output_type": "execute_result"
    }
   ],
   "source": [
    "#apllying multiple linear regression on the data \n",
    "from sklearn.linear_model import LinearRegression\n",
    "mlr=LinearRegression()\n",
    "mlr.fit(x_train,y_train)\n",
    "y_pred=mlr.predict(x_test)\n",
    "mlr.score(x_test,y_test)\n",
    "# print(\"Accuracy: %.2f%%\" % (res*100.0))"
   ]
  },
  {
   "cell_type": "code",
   "execution_count": 20,
   "metadata": {},
   "outputs": [
    {
     "name": "stdout",
     "output_type": "stream",
     "text": [
      "Mean Absolute Error :246.71785407232883\n",
      "Root Mean Squared Error :535.2709147930026\n",
      "R square :0.5146336285133746\n"
     ]
    }
   ],
   "source": [
    "#Evaluation metrics are obtained\n",
    "from sklearn import metrics\n",
    "from sklearn.metrics import r2_score\n",
    "print(\"Mean Absolute Error :\"+ metrics.mean_absolute_error(y_test,y_pred).astype(str))\n",
    "print(\"Root Mean Squared Error :\" + np.sqrt(metrics.mean_squared_error(y_test,y_pred)).astype(str))\n",
    "print(\"R square :\"+ r2_score(y_test,y_pred).astype(str))"
   ]
  },
  {
   "cell_type": "code",
   "execution_count": 21,
   "metadata": {},
   "outputs": [
    {
     "name": "stdout",
     "output_type": "stream",
     "text": [
      "Multiple linear Regression\n",
      "RMSE value of Training dataset:683.2108299137507\n",
      "RMSE value of testing dataset:535.2709147930026\n"
     ]
    }
   ],
   "source": [
    "# to compare RMSE value of training and testing \n",
    "y_pred_x_train=mlr.predict(x_train)\n",
    "print(\"Multiple linear Regression\")\n",
    "print(\"RMSE value of Training dataset:\" + np.sqrt(metrics.mean_squared_error(y_train,y_pred_x_train)).astype(str))\n",
    "print(\"RMSE value of testing dataset:\" + np.sqrt(metrics.mean_squared_error(y_test,y_pred)).astype(str))"
   ]
  },
  {
   "cell_type": "code",
   "execution_count": 24,
   "metadata": {},
   "outputs": [
    {
     "name": "stdout",
     "output_type": "stream",
     "text": [
      "0.4540830710056106\n"
     ]
    },
    {
     "data": {
      "text/plain": [
       "array([0.43881136, 0.43620901, 0.47653188, 0.46478003])"
      ]
     },
     "execution_count": 24,
     "metadata": {},
     "output_type": "execute_result"
    }
   ],
   "source": [
    "from sklearn.model_selection import cross_val_score\n",
    "cv_res = cross_val_score(mlr, x_train, y_train, cv=4, scoring=\"r2\")\n",
    "print(cv_res.mean())\n",
    "cv_res"
   ]
  },
  {
   "cell_type": "code",
   "execution_count": 26,
   "metadata": {},
   "outputs": [
    {
     "name": "stdout",
     "output_type": "stream",
     "text": [
      "KFold Validation\n",
      "R-square: 0.4494863701890942\n"
     ]
    }
   ],
   "source": [
    "# validating the model using K-fold validation \n",
    "from sklearn.model_selection import KFold\n",
    "kfold=KFold(n_splits=10, random_state=2)\n",
    "results_kfold = cross_val_score(mlr, x_train, y_train, cv=kfold, scoring=\"r2\")\n",
    "print(\"KFold Validation\")\n",
    "print(\"R-square: \" + results_kfold.mean().astype(str))"
   ]
  },
  {
   "cell_type": "code",
   "execution_count": 22,
   "metadata": {},
   "outputs": [
    {
     "data": {
      "text/plain": [
       "<matplotlib.collections.PathCollection at 0x136ca0f9c88>"
      ]
     },
     "execution_count": 22,
     "metadata": {},
     "output_type": "execute_result"
    },
    {
     "data": {
      "image/png": "[encoded data removed]",
      "text/plain": [
       "<Figure size 864x504 with 1 Axes>"
      ]
     },
     "metadata": {
      "needs_background": "light"
     },
     "output_type": "display_data"
    }
   ],
   "source": [
    "# graphical representation of observed and predicted value\n",
    "import matplotlib.pyplot as plt\n",
    "plt.figure(figsize=(12,7))\n",
    "plt.scatter(y_test,x_test.iloc[:,2],color=\"blue\")\n",
    "plt.title(\"Observed vs Predicted\",size=20,pad=15)\n",
    "#plt.xlabel('Rating',size = 15)\n",
    "#plt.ylabel('Frequency',size = 15)\n",
    "plt.scatter(y_pred,x_test.iloc[:,2],color=\"yellow\")"
   ]
  },
  {
   "cell_type": "code",
   "execution_count": 27,
   "metadata": {},
   "outputs": [
    {
     "data": {
      "text/plain": [
       "0.8716665325205606"
      ]
     },
     "execution_count": 27,
     "metadata": {},
     "output_type": "execute_result"
    }
   ],
   "source": [
    "#applying gradient bosting algorithm\n",
    "import numpy as np\n",
    "from sklearn.ensemble import GradientBoostingRegressor\n",
    "model = GradientBoostingRegressor(n_estimators=3,learning_rate=1)\n",
    "model.fit(x_train,y_train)\n",
    "y_pred=model.predict(x_test)\n",
    "model.score(x_test,y_test)"
   ]
  },
  {
   "cell_type": "code",
   "execution_count": 28,
   "metadata": {},
   "outputs": [
    {
     "name": "stdout",
     "output_type": "stream",
     "text": [
      "Mean Absolute Error :94.96026153674902\n",
      "Root Mean Squared Error :275.2382376978053\n",
      "R square :0.8716665325205606\n"
     ]
    }
   ],
   "source": [
    "# Evaluation metrics are obtained\n",
    "from sklearn import metrics\n",
    "from sklearn.metrics import r2_score\n",
    "print(\"Mean Absolute Error :\"+ metrics.mean_absolute_error(y_test,y_pred).astype(str))\n",
    "print(\"Root Mean Squared Error :\" + np.sqrt(metrics.mean_squared_error(y_test,y_pred)).astype(str))\n",
    "print(\"R square :\"+ r2_score(y_test,y_pred).astype(str))"
   ]
  },
  {
   "cell_type": "code",
   "execution_count": 29,
   "metadata": {},
   "outputs": [
    {
     "name": "stdout",
     "output_type": "stream",
     "text": [
      "Gradient Boosting Regression\n",
      "RMSE value of Training dataset:268.18751178245014\n",
      "RMSE value of testing dataset:275.2382376978053\n"
     ]
    }
   ],
   "source": [
    "#comparing RMSE value of training and testing set\n",
    "y_pred_x_train=model.predict(x_train)\n",
    "print(\"Gradient Boosting Regression\")\n",
    "print(\"RMSE value of Training dataset:\" + np.sqrt(metrics.mean_squared_error(y_train,y_pred_x_train)).astype(str))\n",
    "print(\"RMSE value of testing dataset:\" + np.sqrt(metrics.mean_squared_error(y_test,y_pred)).astype(str))"
   ]
  },
  {
   "cell_type": "code",
   "execution_count": 30,
   "metadata": {},
   "outputs": [
    {
     "name": "stdout",
     "output_type": "stream",
     "text": [
      "0.8960786197000691\n"
     ]
    },
    {
     "data": {
      "text/plain": [
       "array([0.87229335, 0.88934485, 0.91707984, 0.90559644])"
      ]
     },
     "execution_count": 30,
     "metadata": {},
     "output_type": "execute_result"
    }
   ],
   "source": [
    "from sklearn.model_selection import cross_val_score\n",
    "cv_res = cross_val_score(model, x_train, y_train, cv=4, scoring=\"r2\")\n",
    "print(cv_res.mean())\n",
    "cv_res"
   ]
  },
  {
   "cell_type": "code",
   "execution_count": 31,
   "metadata": {},
   "outputs": [
    {
     "name": "stdout",
     "output_type": "stream",
     "text": [
      "KFold Validation\n",
      "R-square: 0.8966820507108684\n"
     ]
    }
   ],
   "source": [
    "#model is validated using K-fold validation\n",
    "from sklearn.model_selection import KFold\n",
    "results_kfold = cross_val_score(model, x_train, y_train, cv=kfold, scoring=\"r2\")\n",
    "print(\"KFold Validation\")\n",
    "print(\"R-square: \" + results_kfold.mean().astype(str))\n"
   ]
  },
  {
   "cell_type": "code",
   "execution_count": 32,
   "metadata": {},
   "outputs": [
    {
     "data": {
      "text/plain": [
       "<matplotlib.collections.PathCollection at 0x136ccce9888>"
      ]
     },
     "execution_count": 32,
     "metadata": {},
     "output_type": "execute_result"
    },
    {
     "data": {
      "image/png": "[encoded data removed]",
      "text/plain": [
       "<Figure size 864x504 with 1 Axes>"
      ]
     },
     "metadata": {
      "needs_background": "light"
     },
     "output_type": "display_data"
    }
   ],
   "source": [
    "#pictorial representation of observed and predicted value\n",
    "import matplotlib.pyplot as plt\n",
    "plt.figure(figsize=(12,7))\n",
    "plt.scatter(y_test,x_test.iloc[:,2],color=\"blue\")\n",
    "plt.title(\"Observed vs Predicted\",size=20,pad=15)\n",
    "#plt.xlabel('Rating',size = 15)\n",
    "#plt.ylabel('Frequency',size = 15)\n",
    "plt.scatter(y_pred,x_test.iloc[:,2],color=\"yellow\")"
   ]
  },
  {
   "cell_type": "code",
   "execution_count": null,
   "metadata": {},
   "outputs": [],
   "source": []
  }
 ],
 "metadata": {
  "kernelspec": {
   "display_name": "Python 3",
   "language": "python",
   "name": "python3"
  },
  "language_info": {
   "codemirror_mode": {
    "name": "ipython",
    "version": 3
   },
   "file_extension": ".py",
   "mimetype": "text/x-python",
   "name": "python",
   "nbconvert_exporter": "python",
   "pygments_lexer": "ipython3",
   "version": "3.7.4"
  }
 },
 "nbformat": 4,
 "nbformat_minor": 2
}
